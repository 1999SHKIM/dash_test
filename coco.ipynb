{
 "cells": [
  {
   "cell_type": "code",
   "execution_count": null,
   "id": "50a34395-572a-4c06-b60d-a6bea10d9a3b",
   "metadata": {},
   "outputs": [],
   "source": [
    "import numpy as np\n",
    "import pandas as pd\n",
    "import plotly.express as px\n",
    "import plotly.io as pio"
   ]
  },
  {
   "cell_type": "code",
   "execution_count": null,
   "id": "e233c431-64f2-4674-9e3f-cb65da7d8be9",
   "metadata": {},
   "outputs": [],
   "source": [
    "pd.options.plotting.backend = \"plotly\"\n",
    "pio.templates.default = \"plotly_white\""
   ]
  },
  {
   "cell_type": "code",
   "execution_count": null,
   "id": "5a5bdd22-cea4-4497-9c50-467449b9e9c7",
   "metadata": {},
   "outputs": [],
   "source": [
    "# Read data from CSV\n",
    "df = pd.read_csv(\"https://raw.githubusercontent.com/guebin/DV2023/main/posts/NYCTaxi.csv\").assign(\n",
    "    log_trip_duration=lambda df: np.log(df.trip_duration),\n",
    "    pickup_datetime=lambda df: df.pickup_datetime.apply(pd.to_datetime),\n",
    "    dropoff_datetime=lambda df: df.dropoff_datetime.apply(pd.to_datetime),\n",
    "    dist=lambda df: np.sqrt(\n",
    "        (df.pickup_latitude - df.dropoff_latitude) ** 2\n",
    "        + (df.pickup_longitude - df.dropoff_longitude) ** 2\n",
    "    ),\n",
    "    # --- #\n",
    "    vendor_id=lambda df: df.vendor_id.map({1: \"A\", 2: \"B\"}),\n",
    ")"
   ]
  },
  {
   "cell_type": "code",
   "execution_count": null,
   "id": "e9e699f3-180d-49aa-9b14-c697fbefba79",
   "metadata": {},
   "outputs": [],
   "source": [
    "week_k = {0:'월',1:'화',2:'수',3:'목',4:'금',5:'토',6:'일'}\n",
    "df[\"dayofweek\"] = df[\"dayofweek\"].map(week_k)"
   ]
  },
  {
   "cell_type": "code",
   "execution_count": null,
   "id": "56ce7d25-7301-4f62-882c-8bea7ec71435",
   "metadata": {},
   "outputs": [],
   "source": [
    "tidydata = df.pivot_table(\n",
    "    index = 'pickup_hour',\n",
    "    columns = 'dayofweek',\n",
    "    values = 'speed',\n",
    "    aggfunc = 'mean'\n",
    ").stack().reset_index().rename({0:'speed_mean'},axis=1)\n",
    "tidydata"
   ]
  },
  {
   "cell_type": "code",
   "execution_count": null,
   "id": "855d69ed-a678-429e-b0fe-32daf5d48c6d",
   "metadata": {},
   "outputs": [],
   "source": [
    "fig =px.density_heatmap(\n",
    "    data_frame=tidydata,\n",
    "    x='pickup_hour',\n",
    "    y='dayofweek',\n",
    "    z='speed_mean',\n",
    "    nbinsx=24,\n",
    "    nbinsy=7,\n",
    "    height=300,\n",
    "    # color_continuous_scale=px.colors.sequential.Inferno,\n",
    "    #color=dict(title=\"평균 속도\")  # 여기에 원하는 이름을 입력\n",
    ")\n",
    "fig.update_layout(\n",
    "    xaxis=dict(\n",
    "        title='탑승 시간'\n",
    "    ),\n",
    "    yaxis=dict(\n",
    "        title='요일'\n",
    "    ),\n",
    "#     zaxis=dict(\n",
    "#         title='평균 속도 합'    \n",
    "#     )\n",
    "    \n",
    ")"
   ]
  },
  {
   "cell_type": "code",
   "execution_count": null,
   "id": "1d5786c4-b74d-4f59-837b-253d65c3342d",
   "metadata": {},
   "outputs": [],
   "source": [
    "tidydata = df.pivot_table(\n",
    "    index = 'pickup_hour',\n",
    "    columns = 'dayofweek',\n",
    "    values = 'dist',\n",
    "    aggfunc = 'mean'\n",
    ").stack().reset_index().rename({0:'dist_mean'},axis=1)\n",
    "px.density_heatmap(\n",
    "    data_frame=tidydata,\n",
    "    x='pickup_hour',\n",
    "    y='dayofweek',\n",
    "    z='dist_mean',\n",
    "    nbinsx=24,\n",
    "    nbinsy=7,\n",
    "    height=300\n",
    ")"
   ]
  },
  {
   "cell_type": "code",
   "execution_count": null,
   "id": "41bdbd1c-bbec-417a-b111-8ae5cf87bb04",
   "metadata": {},
   "outputs": [],
   "source": [
    "import numpy as np\n",
    "import pandas as pd\n",
    "import plotly.express as px\n",
    "import plotly.io as pio\n",
    "\n",
    "# Plotting configuration\n",
    "pd.options.plotting.backend = \"plotly\"\n",
    "pio.templates.default = \"plotly_white\"\n",
    "\n",
    "# Read data from CSV\n",
    "df = pd.read_csv(\"https://raw.githubusercontent.com/guebin/DV2023/main/posts/NYCTaxi.csv\").assign(\n",
    "    log_trip_duration=lambda df: np.log(df.trip_duration),\n",
    "    pickup_datetime=lambda df: df.pickup_datetime.apply(pd.to_datetime),\n",
    "    dropoff_datetime=lambda df: df.dropoff_datetime.apply(pd.to_datetime),\n",
    "    dist=lambda df: np.sqrt(\n",
    "        (df.pickup_latitude - df.dropoff_latitude) ** 2\n",
    "        + (df.pickup_longitude - df.dropoff_longitude) ** 2\n",
    "    ),\n",
    "    # --- #\n",
    "    vendor_id=lambda df: df.vendor_id.map({1: \"A\", 2: \"B\"}),\n",
    ")\n",
    "\n",
    "# Calculate additional attributes\n",
    "df = df.assign(\n",
    "    speed=lambda df: df.dist / df.trip_duration,\n",
    "    pickup_hour=lambda df: df.pickup_datetime.dt.hour,\n",
    "    dropoff_hour=lambda df: df.dropoff_datetime.dt.hour,\n",
    "    dayofweek=lambda df: df.pickup_datetime.dt.dayofweek,\n",
    ")\n",
    "\n",
    "# Reduce data size for faster processing\n",
    "df_small = df[::100].reset_index(drop=True)\n",
    "\n",
    "# Convert day of week\n",
    "day_map = {0: \"Mon\", 1: \"Tue\", 2: \"Wed\", 3: \"Thu\", 4: \"Fri\", 5: \"Sat\", 6: \"Sun\"}\n",
    "df_small[\"dayofweek\"] = df_small[\"dayofweek\"].map(day_map)\n",
    "\n",
    "# Calculate average speed\n",
    "avg_speed_by_day_time = (\n",
    "    df_small.groupby([\"dayofweek\", \"pickup_hour\"])[\"speed\"]\n",
    "    .mean()\n",
    "    .reset_index()\n",
    ")\n",
    "\n",
    "# Line chart visualization\n",
    "fig = px.line(\n",
    "    avg_speed_by_day_time,\n",
    "    x=\"pickup_hour\",\n",
    "    y=\"speed\",\n",
    "    color=\"dayofweek\",\n",
    "    title=\"Average Speed by Day of Week and Time of Day\",\n",
    "    labels={\n",
    "        \"pickup_hour\": \"Pickup Hour\",\n",
    "        \"speed\": \"Average Speed (km/h)\",\n",
    "        \"dayofweek\": \"Day of Week\",\n",
    "    },\n",
    ")\n",
    "\n",
    "# Show the dashboard\n",
    "fig.show()"
   ]
  }
 ],
 "metadata": {
  "kernelspec": {
   "display_name": "Python 3 (ipykernel)",
   "language": "python",
   "name": "python3"
  },
  "language_info": {
   "codemirror_mode": {
    "name": "ipython",
    "version": 3
   },
   "file_extension": ".py",
   "mimetype": "text/x-python",
   "name": "python",
   "nbconvert_exporter": "python",
   "pygments_lexer": "ipython3",
   "version": "3.10.13"
  }
 },
 "nbformat": 4,
 "nbformat_minor": 5
}
