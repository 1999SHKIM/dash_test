{
  "cells": [
    {
      "cell_type": "raw",
      "metadata": {},
      "source": [
        "---\n",
        "title: \"NYCTaxi\"\n",
        "author: \"김승현(202021304)\"\n",
        "format: dashboard\n",
        "execute: \n",
        "  enabled: true\n",
        "  cache: false\n",
        "  freeze: false\n",
        "---"
      ],
      "id": "acf09fa4"
    },
    {
      "cell_type": "code",
      "metadata": {},
      "source": [
        "#| output: false\n",
        "import numpy as np\n",
        "import pandas as pd\n",
        "import plotly.express as px\n",
        "import plotly.io as pio\n",
        "import json\n",
        "import requests\n",
        "import pickle\n",
        "\n",
        "pd.options.plotting.backend = \"plotly\"\n",
        "pio.templates.default = \"plotly_white\"\n",
        "\n",
        "df = pd.read_csv(\"https://raw.githubusercontent.com/guebin/DV2023/main/posts/NYCTaxi.csv\").assign(\n",
        "    log_trip_duration=lambda df: np.log(df.trip_duration),\n",
        "    pickup_datetime=lambda df: df.pickup_datetime.apply(pd.to_datetime),\n",
        "    dropoff_datetime=lambda df: df.dropoff_datetime.apply(pd.to_datetime),\n",
        "    dist=lambda df: np.sqrt(\n",
        "        (df.pickup_latitude - df.dropoff_latitude) ** 2\n",
        "        + (df.pickup_longitude - df.dropoff_longitude) ** 2\n",
        "    ),\n",
        "    # --- #\n",
        "    vendor_id=lambda df: df.vendor_id.map({1: \"A\", 2: \"B\"}),\n",
        ")\n",
        "\n",
        "# Calculate additional attributes\n",
        "df = df.assign(\n",
        "    speed=lambda df: df.dist / df.trip_duration,\n",
        "    pickup_hour=lambda df: df.pickup_datetime.dt.hour,\n",
        "    dropoff_hour=lambda df: df.dropoff_datetime.dt.hour,\n",
        "    dayofweek=lambda df: df.pickup_datetime.dt.dayofweek,\n",
        ")\n",
        "\n",
        "# Reduce data size for faster processing\n",
        "df_small = df[::100].reset_index(drop=True)\n",
        "\n",
        "# Convert day of week\n",
        "day_map = {0: \"월\", 1: \"화\", 2: \"수\", 3: \"목\", 4: \"금\", 5: \"토\", 6: \"일\"}\n",
        "df_small[\"dayofweek\"] = df_small[\"dayofweek\"].map(day_map)\n",
        "\n",
        "# Calculate average speed\n",
        "avg_speed_by_day_time = (\n",
        "    df_small.groupby([\"dayofweek\", \"pickup_hour\"])[\"speed\"]\n",
        "    .mean()\n",
        "    .reset_index()\n",
        ")\n",
        "\n",
        "# Line chart visualization\n",
        "fig1 = px.line(\n",
        "    avg_speed_by_day_time,\n",
        "    x=\"pickup_hour\",\n",
        "    y=\"speed\",\n",
        "    color=\"dayofweek\",\n",
        "    title=\"Average Speed by Day of Week and Time of Day\",\n",
        "    labels={\n",
        "        \"pickup_hour\": \"Pickup Hour\",\n",
        "        \"speed\": \"Average Speed (km/h)\",\n",
        "        \"dayofweek\": \"Day of Week\",\n",
        "    },\n",
        ")\n",
        "# Calculate average distance\n",
        "avg_distance_by_hour = (\n",
        "    df_small.groupby(\"pickup_hour\")[\"dist\"]\n",
        "    .mean()\n",
        "    .reset_index()\n",
        ")\n",
        "\n",
        "# Line chart visualization\n",
        "fig2 = px.line(\n",
        "    avg_distance_by_hour,\n",
        "    x=\"pickup_hour\",\n",
        "    y=\"dist\",\n",
        "    title=\"Average Distance by Time of Day\",\n",
        "    labels={\n",
        "        \"pickup_hour\": \"Pickup Hour\",\n",
        "        \"dist\": \"Average Distance (km)\",\n",
        "    },\n",
        ")"
      ],
      "id": "dc24cd98",
      "execution_count": null,
      "outputs": []
    },
    {
      "cell_type": "markdown",
      "metadata": {},
      "source": [
        "# 기말고사1-(1)\n"
      ],
      "id": "1134d2ef"
    },
    {
      "cell_type": "code",
      "metadata": {
        "title": "요일,시간에 따른 평균속력 시각화"
      },
      "source": [
        "fig1.show()"
      ],
      "id": "be4bba80",
      "execution_count": null,
      "outputs": []
    },
    {
      "cell_type": "code",
      "metadata": {
        "title": "요일,시간에 따른 평균이동거리 시각화"
      },
      "source": [
        "fig2.show()\n",
        "\n",
        ")"
      ],
      "id": "4f611c59",
      "execution_count": null,
      "outputs": []
    }
  ],
  "metadata": {
    "kernelspec": {
      "name": "python3",
      "language": "python",
      "display_name": "Python 3 (ipykernel)"
    }
  },
  "nbformat": 4,
  "nbformat_minor": 5
}