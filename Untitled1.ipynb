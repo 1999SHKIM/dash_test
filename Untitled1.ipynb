{
 "cells": [
  {
   "cell_type": "code",
   "execution_count": 1,
   "id": "fe8a7f3f-6357-4f37-b091-074cc5d799cc",
   "metadata": {},
   "outputs": [],
   "source": [
    "import numpy as np\n",
    "import pandas as pd\n",
    "import plotly.express as px\n",
    "import plotly.io as pio\n",
    "import json\n",
    "import requests\n",
    "import pickle"
   ]
  },
  {
   "cell_type": "code",
   "execution_count": 2,
   "id": "863b4297-94b5-4e6f-8a74-28191d28d9ab",
   "metadata": {},
   "outputs": [],
   "source": [
    "pd.options.plotting.backend = \"plotly\"\n",
    "pio.templates.default = \"plotly_white\""
   ]
  },
  {
   "cell_type": "code",
   "execution_count": 3,
   "id": "e4b8d681-2519-47dd-ad90-795bcebab187",
   "metadata": {},
   "outputs": [],
   "source": [
    "df = pd.read_csv(\"https://raw.githubusercontent.com/guebin/DV2023/main/posts/NYCTaxi.csv\").assign(\n",
    "    log_trip_duration = lambda df: np.log(df.trip_duration),\n",
    "    pickup_datetime = lambda df: df.pickup_datetime.apply(pd.to_datetime),\n",
    "    dropoff_datetime = lambda df: df.dropoff_datetime.apply(pd.to_datetime),\n",
    "    dist = lambda df: np.sqrt((df.pickup_latitude-df.dropoff_latitude)**2 + (df.pickup_longitude-df.dropoff_longitude)**2),\n",
    "    #---#\n",
    "    vendor_id = lambda df: df.vendor_id.map({1:'A',2:'B'})\n",
    ").assign(\n",
    "    speed = lambda df: df.dist / df.trip_duration,\n",
    "    pickup_hour = lambda df: df.pickup_datetime.dt.hour,\n",
    "    dropoff_hour = lambda df: df.dropoff_datetime.dt.hour,\n",
    "    dayofweek = lambda df: df.pickup_datetime.dt.dayofweek\n",
    ")\n",
    "df_small = df[::100].reset_index(drop=True)"
   ]
  },
  {
   "cell_type": "code",
   "execution_count": 4,
   "id": "857f2665-7752-478f-80ed-14af625b8854",
   "metadata": {},
   "outputs": [],
   "source": [
    "week_k = {0:'월',1:'화',2:'수',3:'목',4:'금',5:'토',6:'일'}\n",
    "df[\"dayofweek\"] = df[\"dayofweek\"].map(week_k)"
   ]
  },
  {
   "cell_type": "code",
   "execution_count": 6,
   "id": "882ed891-6dcb-446c-956d-885ac519b593",
   "metadata": {},
   "outputs": [],
   "source": [
    "tidydata = df.pivot_table(\n",
    "    index = 'pickup_hour',\n",
    "    columns = 'dayofweek',\n",
    "    values = 'speed',\n",
    "    aggfunc = 'mean'\n",
    ").stack().reset_index().rename({0:'speed_mean'},axis=1)"
   ]
  },
  {
   "cell_type": "code",
   "execution_count": 17,
   "id": "8a0290e0-3b73-4d2d-b73c-f2b38e252c07",
   "metadata": {},
   "outputs": [],
   "source": [
    "fig1 =px.density_heatmap(\n",
    "    data_frame=tidydata,\n",
    "    x='pickup_hour',\n",
    "    y='dayofweek',\n",
    "    z='speed_mean',\n",
    "    nbinsx=24,\n",
    "    nbinsy=7,\n",
    "    height=300,\n",
    "    labels={\"pickup_hour\": \"탑승시간\", \"dayofweek\": \"요일\", 'speed_mean':'평균속도'}\n",
    ")    "
   ]
  },
  {
   "cell_type": "code",
   "execution_count": 18,
   "id": "8ed259c8-3acc-4189-a18b-610978c3850d",
   "metadata": {},
   "outputs": [
    {
     "data": {
      "application/vnd.plotly.v1+json": {
       "config": {
        "plotlyServerURL": "https://plot.ly"
       },
       "data": [
        {
         "coloraxis": "coloraxis",
         "histfunc": "sum",
         "hovertemplate": "탑승시간=%{x}<br>요일=%{y}<br>sum of 평균속도=%{z}<extra></extra>",
         "name": "",
         "nbinsx": 24,
         "nbinsy": 7,
         "type": "histogram2d",
         "x": [
          0,
          0,
          0,
          0,
          0,
          0,
          0,
          1,
          1,
          1,
          1,
          1,
          1,
          1,
          2,
          2,
          2,
          2,
          2,
          2,
          2,
          3,
          3,
          3,
          3,
          3,
          3,
          3,
          4,
          4,
          4,
          4,
          4,
          4,
          4,
          5,
          5,
          5,
          5,
          5,
          5,
          5,
          6,
          6,
          6,
          6,
          6,
          6,
          6,
          7,
          7,
          7,
          7,
          7,
          7,
          7,
          8,
          8,
          8,
          8,
          8,
          8,
          8,
          9,
          9,
          9,
          9,
          9,
          9,
          9,
          10,
          10,
          10,
          10,
          10,
          10,
          10,
          11,
          11,
          11,
          11,
          11,
          11,
          11,
          12,
          12,
          12,
          12,
          12,
          12,
          12,
          13,
          13,
          13,
          13,
          13,
          13,
          13,
          14,
          14,
          14,
          14,
          14,
          14,
          14,
          15,
          15,
          15,
          15,
          15,
          15,
          15,
          16,
          16,
          16,
          16,
          16,
          16,
          16,
          17,
          17,
          17,
          17,
          17,
          17,
          17,
          18,
          18,
          18,
          18,
          18,
          18,
          18,
          19,
          19,
          19,
          19,
          19,
          19,
          19,
          20,
          20,
          20,
          20,
          20,
          20,
          20,
          21,
          21,
          21,
          21,
          21,
          21,
          21,
          22,
          22,
          22,
          22,
          22,
          22,
          22,
          23,
          23,
          23,
          23,
          23,
          23,
          23
         ],
         "xaxis": "x",
         "xbingroup": "x",
         "y": [
          "금",
          "목",
          "수",
          "월",
          "일",
          "토",
          "화",
          "금",
          "목",
          "수",
          "월",
          "일",
          "토",
          "화",
          "금",
          "목",
          "수",
          "월",
          "일",
          "토",
          "화",
          "금",
          "목",
          "수",
          "월",
          "일",
          "토",
          "화",
          "금",
          "목",
          "수",
          "월",
          "일",
          "토",
          "화",
          "금",
          "목",
          "수",
          "월",
          "일",
          "토",
          "화",
          "금",
          "목",
          "수",
          "월",
          "일",
          "토",
          "화",
          "금",
          "목",
          "수",
          "월",
          "일",
          "토",
          "화",
          "금",
          "목",
          "수",
          "월",
          "일",
          "토",
          "화",
          "금",
          "목",
          "수",
          "월",
          "일",
          "토",
          "화",
          "금",
          "목",
          "수",
          "월",
          "일",
          "토",
          "화",
          "금",
          "목",
          "수",
          "월",
          "일",
          "토",
          "화",
          "금",
          "목",
          "수",
          "월",
          "일",
          "토",
          "화",
          "금",
          "목",
          "수",
          "월",
          "일",
          "토",
          "화",
          "금",
          "목",
          "수",
          "월",
          "일",
          "토",
          "화",
          "금",
          "목",
          "수",
          "월",
          "일",
          "토",
          "화",
          "금",
          "목",
          "수",
          "월",
          "일",
          "토",
          "화",
          "금",
          "목",
          "수",
          "월",
          "일",
          "토",
          "화",
          "금",
          "목",
          "수",
          "월",
          "일",
          "토",
          "화",
          "금",
          "목",
          "수",
          "월",
          "일",
          "토",
          "화",
          "금",
          "목",
          "수",
          "월",
          "일",
          "토",
          "화",
          "금",
          "목",
          "수",
          "월",
          "일",
          "토",
          "화",
          "금",
          "목",
          "수",
          "월",
          "일",
          "토",
          "화",
          "금",
          "목",
          "수",
          "월",
          "일",
          "토",
          "화"
         ],
         "yaxis": "y",
         "ybingroup": "y",
         "z": [
          4.889898395295332e-05,
          5.184038313132204e-05,
          6.116378568153915e-05,
          6.192500620581454e-05,
          4.867451265381591e-05,
          4.57447448153166e-05,
          5.449040166377657e-05,
          4.808840856559643e-05,
          5.431164883830948e-05,
          5.95080286367072e-05,
          7.01657870423287e-05,
          4.5558581960528345e-05,
          4.3779793536928186e-05,
          5.371153739926472e-05,
          4.878273252150626e-05,
          6.564506227576916e-05,
          6.558620712482186e-05,
          4.722024947464294e-05,
          5.371833554638321e-05,
          4.813530120600683e-05,
          5.9327518000189613e-05,
          6.34974889800912e-05,
          6.256305382134688e-05,
          6.827551865012208e-05,
          5.831838054486283e-05,
          4.7426951540305794e-05,
          5.3113156583687176e-05,
          6.501232110857415e-05,
          6.419844452350097e-05,
          6.557612348720275e-05,
          5.361846347616713e-05,
          7.501200117229855e-05,
          5.4501276502573515e-05,
          5.36954428774924e-05,
          6.09770720963975e-05,
          8.213525549634397e-05,
          6.734676487404748e-05,
          6.279575915660333e-05,
          7.271806607809553e-05,
          7.543749941217084e-05,
          5.789639394612405e-05,
          7.368294268979752e-05,
          5.5162509076601056e-05,
          5.566553665245741e-05,
          5.598712473866864e-05,
          5.82080690005862e-05,
          7.952472316751356e-05,
          6.295669093404916e-05,
          5.296087558310268e-05,
          4.3339251930531036e-05,
          3.8891036987676096e-05,
          4.077717937393523e-05,
          4.4350735375279734e-05,
          7.760794422122645e-05,
          5.823198976572878e-05,
          4.014571412064587e-05,
          3.3304999075313214e-05,
          3.194733733068311e-05,
          3.2903688520327856e-05,
          3.511552334477387e-05,
          5.849479587077e-05,
          6.329730608490566e-05,
          3.0239910535490427e-05,
          3.012557127048596e-05,
          3.058161299605332e-05,
          3.105778192517575e-05,
          2.997742168251701e-05,
          4.551503691452916e-05,
          4.538403845477675e-05,
          3.0295735687408936e-05,
          3.592488451595608e-05,
          2.841971807469577e-05,
          3.096250909762546e-05,
          3.654893760953111e-05,
          4.465601215456055e-05,
          4.287566907836539e-05,
          2.8788144332399327e-05,
          3.0718583299376126e-05,
          3.139054878128309e-05,
          2.885125706597703e-05,
          3.567971201801838e-05,
          4.5688966332788196e-05,
          4.012185557659054e-05,
          3.1401137001383755e-05,
          2.9427012774861235e-05,
          2.8072220637437904e-05,
          2.8356901691793332e-05,
          3.68351958924078e-05,
          4.496255086996648e-05,
          3.8568061286522577e-05,
          3.1082537741861597e-05,
          3.454598391083255e-05,
          2.912536814022494e-05,
          3.2183704895910935e-05,
          3.626739408054189e-05,
          4.084005371383958e-05,
          3.334539954204504e-05,
          3.2717081723126535e-05,
          3.4045488976107045e-05,
          3.0483574952789655e-05,
          3.2657360092844285e-05,
          3.700353060885671e-05,
          3.917105541083395e-05,
          3.817735599696121e-05,
          3.3209439857716466e-05,
          3.080162213079083e-05,
          3.0482516889906108e-05,
          3.2385313596706385e-05,
          3.416021507732824e-05,
          3.898352553179462e-05,
          3.546830176689362e-05,
          3.0926922714119265e-05,
          3.485311718234654e-05,
          3.2536089830653354e-05,
          3.513650692732357e-05,
          3.6374777610569375e-05,
          3.6765405788468567e-05,
          3.670828647599709e-05,
          3.490920149655713e-05,
          3.449227456730189e-05,
          3.190937308395514e-05,
          3.260243838756182e-05,
          3.837000687649857e-05,
          4.2969895700655737e-05,
          3.648929023122584e-05,
          3.651160551548555e-05,
          3.7718419409648606e-05,
          3.5171677707915996e-05,
          3.426938006584745e-05,
          3.687521512933487e-05,
          3.965857969296879e-05,
          3.583103523861355e-05,
          3.5197765617747696e-05,
          3.553449344350005e-05,
          3.666518614712408e-05,
          3.800713880661725e-05,
          4.324538929618186e-05,
          4.4004188079270204e-05,
          3.315983385198783e-05,
          4.084229687121748e-05,
          4.0243374440793287e-05,
          4.115466120544063e-05,
          4.463905911483369e-05,
          4.7472294372555685e-05,
          4.622882864080493e-05,
          3.5949554491412764e-05,
          4.420867847885844e-05,
          4.145330173617502e-05,
          4.285079309064918e-05,
          4.373551959756939e-05,
          4.6841728151185616e-05,
          5.028697201841166e-05,
          3.945642365833438e-05,
          4.604553865445799e-05,
          3.966782648108991e-05,
          4.454546790905556e-05,
          4.390793462441752e-05,
          5.075381481080666e-05,
          5.1209161076426195e-05,
          4.101380586816511e-05,
          4.6374251298536607e-05,
          4.0172727931235506e-05,
          4.862714201534865e-05,
          4.721072678728939e-05,
          5.8369953650412785e-05,
          5.785112782340353e-05,
          3.869980757776298e-05,
          5.0336294998193645e-05
         ]
        }
       ],
       "layout": {
        "autosize": true,
        "coloraxis": {
         "colorbar": {
          "title": {
           "text": "sum of 평균속도"
          }
         },
         "colorscale": [
          [
           0,
           "#0d0887"
          ],
          [
           0.1111111111111111,
           "#46039f"
          ],
          [
           0.2222222222222222,
           "#7201a8"
          ],
          [
           0.3333333333333333,
           "#9c179e"
          ],
          [
           0.4444444444444444,
           "#bd3786"
          ],
          [
           0.5555555555555556,
           "#d8576b"
          ],
          [
           0.6666666666666666,
           "#ed7953"
          ],
          [
           0.7777777777777778,
           "#fb9f3a"
          ],
          [
           0.8888888888888888,
           "#fdca26"
          ],
          [
           1,
           "#f0f921"
          ]
         ]
        },
        "legend": {
         "tracegroupgap": 0
        },
        "margin": {
         "t": 60
        },
        "template": {
         "data": {
          "bar": [
           {
            "error_x": {
             "color": "#2a3f5f"
            },
            "error_y": {
             "color": "#2a3f5f"
            },
            "marker": {
             "line": {
              "color": "white",
              "width": 0.5
             },
             "pattern": {
              "fillmode": "overlay",
              "size": 10,
              "solidity": 0.2
             }
            },
            "type": "bar"
           }
          ],
          "barpolar": [
           {
            "marker": {
             "line": {
              "color": "white",
              "width": 0.5
             },
             "pattern": {
              "fillmode": "overlay",
              "size": 10,
              "solidity": 0.2
             }
            },
            "type": "barpolar"
           }
          ],
          "carpet": [
           {
            "aaxis": {
             "endlinecolor": "#2a3f5f",
             "gridcolor": "#C8D4E3",
             "linecolor": "#C8D4E3",
             "minorgridcolor": "#C8D4E3",
             "startlinecolor": "#2a3f5f"
            },
            "baxis": {
             "endlinecolor": "#2a3f5f",
             "gridcolor": "#C8D4E3",
             "linecolor": "#C8D4E3",
             "minorgridcolor": "#C8D4E3",
             "startlinecolor": "#2a3f5f"
            },
            "type": "carpet"
           }
          ],
          "choropleth": [
           {
            "colorbar": {
             "outlinewidth": 0,
             "ticks": ""
            },
            "type": "choropleth"
           }
          ],
          "contour": [
           {
            "colorbar": {
             "outlinewidth": 0,
             "ticks": ""
            },
            "colorscale": [
             [
              0,
              "#0d0887"
             ],
             [
              0.1111111111111111,
              "#46039f"
             ],
             [
              0.2222222222222222,
              "#7201a8"
             ],
             [
              0.3333333333333333,
              "#9c179e"
             ],
             [
              0.4444444444444444,
              "#bd3786"
             ],
             [
              0.5555555555555556,
              "#d8576b"
             ],
             [
              0.6666666666666666,
              "#ed7953"
             ],
             [
              0.7777777777777778,
              "#fb9f3a"
             ],
             [
              0.8888888888888888,
              "#fdca26"
             ],
             [
              1,
              "#f0f921"
             ]
            ],
            "type": "contour"
           }
          ],
          "contourcarpet": [
           {
            "colorbar": {
             "outlinewidth": 0,
             "ticks": ""
            },
            "type": "contourcarpet"
           }
          ],
          "heatmap": [
           {
            "colorbar": {
             "outlinewidth": 0,
             "ticks": ""
            },
            "colorscale": [
             [
              0,
              "#0d0887"
             ],
             [
              0.1111111111111111,
              "#46039f"
             ],
             [
              0.2222222222222222,
              "#7201a8"
             ],
             [
              0.3333333333333333,
              "#9c179e"
             ],
             [
              0.4444444444444444,
              "#bd3786"
             ],
             [
              0.5555555555555556,
              "#d8576b"
             ],
             [
              0.6666666666666666,
              "#ed7953"
             ],
             [
              0.7777777777777778,
              "#fb9f3a"
             ],
             [
              0.8888888888888888,
              "#fdca26"
             ],
             [
              1,
              "#f0f921"
             ]
            ],
            "type": "heatmap"
           }
          ],
          "heatmapgl": [
           {
            "colorbar": {
             "outlinewidth": 0,
             "ticks": ""
            },
            "colorscale": [
             [
              0,
              "#0d0887"
             ],
             [
              0.1111111111111111,
              "#46039f"
             ],
             [
              0.2222222222222222,
              "#7201a8"
             ],
             [
              0.3333333333333333,
              "#9c179e"
             ],
             [
              0.4444444444444444,
              "#bd3786"
             ],
             [
              0.5555555555555556,
              "#d8576b"
             ],
             [
              0.6666666666666666,
              "#ed7953"
             ],
             [
              0.7777777777777778,
              "#fb9f3a"
             ],
             [
              0.8888888888888888,
              "#fdca26"
             ],
             [
              1,
              "#f0f921"
             ]
            ],
            "type": "heatmapgl"
           }
          ],
          "histogram": [
           {
            "marker": {
             "pattern": {
              "fillmode": "overlay",
              "size": 10,
              "solidity": 0.2
             }
            },
            "type": "histogram"
           }
          ],
          "histogram2d": [
           {
            "colorbar": {
             "outlinewidth": 0,
             "ticks": ""
            },
            "colorscale": [
             [
              0,
              "#0d0887"
             ],
             [
              0.1111111111111111,
              "#46039f"
             ],
             [
              0.2222222222222222,
              "#7201a8"
             ],
             [
              0.3333333333333333,
              "#9c179e"
             ],
             [
              0.4444444444444444,
              "#bd3786"
             ],
             [
              0.5555555555555556,
              "#d8576b"
             ],
             [
              0.6666666666666666,
              "#ed7953"
             ],
             [
              0.7777777777777778,
              "#fb9f3a"
             ],
             [
              0.8888888888888888,
              "#fdca26"
             ],
             [
              1,
              "#f0f921"
             ]
            ],
            "type": "histogram2d"
           }
          ],
          "histogram2dcontour": [
           {
            "colorbar": {
             "outlinewidth": 0,
             "ticks": ""
            },
            "colorscale": [
             [
              0,
              "#0d0887"
             ],
             [
              0.1111111111111111,
              "#46039f"
             ],
             [
              0.2222222222222222,
              "#7201a8"
             ],
             [
              0.3333333333333333,
              "#9c179e"
             ],
             [
              0.4444444444444444,
              "#bd3786"
             ],
             [
              0.5555555555555556,
              "#d8576b"
             ],
             [
              0.6666666666666666,
              "#ed7953"
             ],
             [
              0.7777777777777778,
              "#fb9f3a"
             ],
             [
              0.8888888888888888,
              "#fdca26"
             ],
             [
              1,
              "#f0f921"
             ]
            ],
            "type": "histogram2dcontour"
           }
          ],
          "mesh3d": [
           {
            "colorbar": {
             "outlinewidth": 0,
             "ticks": ""
            },
            "type": "mesh3d"
           }
          ],
          "parcoords": [
           {
            "line": {
             "colorbar": {
              "outlinewidth": 0,
              "ticks": ""
             }
            },
            "type": "parcoords"
           }
          ],
          "pie": [
           {
            "automargin": true,
            "type": "pie"
           }
          ],
          "scatter": [
           {
            "fillpattern": {
             "fillmode": "overlay",
             "size": 10,
             "solidity": 0.2
            },
            "type": "scatter"
           }
          ],
          "scatter3d": [
           {
            "line": {
             "colorbar": {
              "outlinewidth": 0,
              "ticks": ""
             }
            },
            "marker": {
             "colorbar": {
              "outlinewidth": 0,
              "ticks": ""
             }
            },
            "type": "scatter3d"
           }
          ],
          "scattercarpet": [
           {
            "marker": {
             "colorbar": {
              "outlinewidth": 0,
              "ticks": ""
             }
            },
            "type": "scattercarpet"
           }
          ],
          "scattergeo": [
           {
            "marker": {
             "colorbar": {
              "outlinewidth": 0,
              "ticks": ""
             }
            },
            "type": "scattergeo"
           }
          ],
          "scattergl": [
           {
            "marker": {
             "colorbar": {
              "outlinewidth": 0,
              "ticks": ""
             }
            },
            "type": "scattergl"
           }
          ],
          "scattermapbox": [
           {
            "marker": {
             "colorbar": {
              "outlinewidth": 0,
              "ticks": ""
             }
            },
            "type": "scattermapbox"
           }
          ],
          "scatterpolar": [
           {
            "marker": {
             "colorbar": {
              "outlinewidth": 0,
              "ticks": ""
             }
            },
            "type": "scatterpolar"
           }
          ],
          "scatterpolargl": [
           {
            "marker": {
             "colorbar": {
              "outlinewidth": 0,
              "ticks": ""
             }
            },
            "type": "scatterpolargl"
           }
          ],
          "scatterternary": [
           {
            "marker": {
             "colorbar": {
              "outlinewidth": 0,
              "ticks": ""
             }
            },
            "type": "scatterternary"
           }
          ],
          "surface": [
           {
            "colorbar": {
             "outlinewidth": 0,
             "ticks": ""
            },
            "colorscale": [
             [
              0,
              "#0d0887"
             ],
             [
              0.1111111111111111,
              "#46039f"
             ],
             [
              0.2222222222222222,
              "#7201a8"
             ],
             [
              0.3333333333333333,
              "#9c179e"
             ],
             [
              0.4444444444444444,
              "#bd3786"
             ],
             [
              0.5555555555555556,
              "#d8576b"
             ],
             [
              0.6666666666666666,
              "#ed7953"
             ],
             [
              0.7777777777777778,
              "#fb9f3a"
             ],
             [
              0.8888888888888888,
              "#fdca26"
             ],
             [
              1,
              "#f0f921"
             ]
            ],
            "type": "surface"
           }
          ],
          "table": [
           {
            "cells": {
             "fill": {
              "color": "#EBF0F8"
             },
             "line": {
              "color": "white"
             }
            },
            "header": {
             "fill": {
              "color": "#C8D4E3"
             },
             "line": {
              "color": "white"
             }
            },
            "type": "table"
           }
          ]
         },
         "layout": {
          "annotationdefaults": {
           "arrowcolor": "#2a3f5f",
           "arrowhead": 0,
           "arrowwidth": 1
          },
          "autotypenumbers": "strict",
          "coloraxis": {
           "colorbar": {
            "outlinewidth": 0,
            "ticks": ""
           }
          },
          "colorscale": {
           "diverging": [
            [
             0,
             "#8e0152"
            ],
            [
             0.1,
             "#c51b7d"
            ],
            [
             0.2,
             "#de77ae"
            ],
            [
             0.3,
             "#f1b6da"
            ],
            [
             0.4,
             "#fde0ef"
            ],
            [
             0.5,
             "#f7f7f7"
            ],
            [
             0.6,
             "#e6f5d0"
            ],
            [
             0.7,
             "#b8e186"
            ],
            [
             0.8,
             "#7fbc41"
            ],
            [
             0.9,
             "#4d9221"
            ],
            [
             1,
             "#276419"
            ]
           ],
           "sequential": [
            [
             0,
             "#0d0887"
            ],
            [
             0.1111111111111111,
             "#46039f"
            ],
            [
             0.2222222222222222,
             "#7201a8"
            ],
            [
             0.3333333333333333,
             "#9c179e"
            ],
            [
             0.4444444444444444,
             "#bd3786"
            ],
            [
             0.5555555555555556,
             "#d8576b"
            ],
            [
             0.6666666666666666,
             "#ed7953"
            ],
            [
             0.7777777777777778,
             "#fb9f3a"
            ],
            [
             0.8888888888888888,
             "#fdca26"
            ],
            [
             1,
             "#f0f921"
            ]
           ],
           "sequentialminus": [
            [
             0,
             "#0d0887"
            ],
            [
             0.1111111111111111,
             "#46039f"
            ],
            [
             0.2222222222222222,
             "#7201a8"
            ],
            [
             0.3333333333333333,
             "#9c179e"
            ],
            [
             0.4444444444444444,
             "#bd3786"
            ],
            [
             0.5555555555555556,
             "#d8576b"
            ],
            [
             0.6666666666666666,
             "#ed7953"
            ],
            [
             0.7777777777777778,
             "#fb9f3a"
            ],
            [
             0.8888888888888888,
             "#fdca26"
            ],
            [
             1,
             "#f0f921"
            ]
           ]
          },
          "colorway": [
           "#636efa",
           "#EF553B",
           "#00cc96",
           "#ab63fa",
           "#FFA15A",
           "#19d3f3",
           "#FF6692",
           "#B6E880",
           "#FF97FF",
           "#FECB52"
          ],
          "font": {
           "color": "#2a3f5f"
          },
          "geo": {
           "bgcolor": "white",
           "lakecolor": "white",
           "landcolor": "white",
           "showlakes": true,
           "showland": true,
           "subunitcolor": "#C8D4E3"
          },
          "hoverlabel": {
           "align": "left"
          },
          "hovermode": "closest",
          "mapbox": {
           "style": "light"
          },
          "paper_bgcolor": "white",
          "plot_bgcolor": "white",
          "polar": {
           "angularaxis": {
            "gridcolor": "#EBF0F8",
            "linecolor": "#EBF0F8",
            "ticks": ""
           },
           "bgcolor": "white",
           "radialaxis": {
            "gridcolor": "#EBF0F8",
            "linecolor": "#EBF0F8",
            "ticks": ""
           }
          },
          "scene": {
           "xaxis": {
            "backgroundcolor": "white",
            "gridcolor": "#DFE8F3",
            "gridwidth": 2,
            "linecolor": "#EBF0F8",
            "showbackground": true,
            "ticks": "",
            "zerolinecolor": "#EBF0F8"
           },
           "yaxis": {
            "backgroundcolor": "white",
            "gridcolor": "#DFE8F3",
            "gridwidth": 2,
            "linecolor": "#EBF0F8",
            "showbackground": true,
            "ticks": "",
            "zerolinecolor": "#EBF0F8"
           },
           "zaxis": {
            "backgroundcolor": "white",
            "gridcolor": "#DFE8F3",
            "gridwidth": 2,
            "linecolor": "#EBF0F8",
            "showbackground": true,
            "ticks": "",
            "zerolinecolor": "#EBF0F8"
           }
          },
          "shapedefaults": {
           "line": {
            "color": "#2a3f5f"
           }
          },
          "ternary": {
           "aaxis": {
            "gridcolor": "#DFE8F3",
            "linecolor": "#A2B1C6",
            "ticks": ""
           },
           "baxis": {
            "gridcolor": "#DFE8F3",
            "linecolor": "#A2B1C6",
            "ticks": ""
           },
           "bgcolor": "white",
           "caxis": {
            "gridcolor": "#DFE8F3",
            "linecolor": "#A2B1C6",
            "ticks": ""
           }
          },
          "title": {
           "x": 0.05
          },
          "xaxis": {
           "automargin": true,
           "gridcolor": "#EBF0F8",
           "linecolor": "#EBF0F8",
           "ticks": "",
           "title": {
            "standoff": 15
           },
           "zerolinecolor": "#EBF0F8",
           "zerolinewidth": 2
          },
          "yaxis": {
           "automargin": true,
           "gridcolor": "#EBF0F8",
           "linecolor": "#EBF0F8",
           "ticks": "",
           "title": {
            "standoff": 15
           },
           "zerolinecolor": "#EBF0F8",
           "zerolinewidth": 2
          }
         }
        },
        "xaxis": {
         "anchor": "y",
         "autorange": true,
         "domain": [
          0,
          1
         ],
         "range": [
          -0.5,
          23.5
         ],
         "title": {
          "text": "탑승시간"
         },
         "type": "linear"
        },
        "yaxis": {
         "anchor": "x",
         "autorange": true,
         "domain": [
          0,
          1
         ],
         "range": [
          -0.5,
          6.5
         ],
         "title": {
          "text": "요일"
         },
         "type": "category"
        }
       }
      },
      "image/png": "[encoded data removed]",
      "text/html": [
       "<div>                            <div id=\"6c6ac168-5438-4273-a070-3cd808314c9d\" class=\"plotly-graph-div\" style=\"height:300px; width:100%;\"></div>            <script type=\"text/javascript\">                require([\"plotly\"], function(Plotly) {                    window.PLOTLYENV=window.PLOTLYENV || {};                                    if (document.getElementById(\"6c6ac168-5438-4273-a070-3cd808314c9d\")) {                    Plotly.newPlot(                        \"6c6ac168-5438-4273-a070-3cd808314c9d\",                        [{\"coloraxis\":\"coloraxis\",\"histfunc\":\"sum\",\"hovertemplate\":\"\\ud0d1\\uc2b9\\uc2dc\\uac04=%{x}\\u003cbr\\u003e\\uc694\\uc77c=%{y}\\u003cbr\\u003esum of \\ud3c9\\uade0\\uc18d\\ub3c4=%{z}\\u003cextra\\u003e\\u003c\\u002fextra\\u003e\",\"name\":\"\",\"nbinsx\":24,\"nbinsy\":7,\"x\":[0,0,0,0,0,0,0,1,1,1,1,1,1,1,2,2,2,2,2,2,2,3,3,3,3,3,3,3,4,4,4,4,4,4,4,5,5,5,5,5,5,5,6,6,6,6,6,6,6,7,7,7,7,7,7,7,8,8,8,8,8,8,8,9,9,9,9,9,9,9,10,10,10,10,10,10,10,11,11,11,11,11,11,11,12,12,12,12,12,12,12,13,13,13,13,13,13,13,14,14,14,14,14,14,14,15,15,15,15,15,15,15,16,16,16,16,16,16,16,17,17,17,17,17,17,17,18,18,18,18,18,18,18,19,19,19,19,19,19,19,20,20,20,20,20,20,20,21,21,21,21,21,21,21,22,22,22,22,22,22,22,23,23,23,23,23,23,23],\"xaxis\":\"x\",\"xbingroup\":\"x\",\"y\":[\"\\uae08\",\"\\ubaa9\",\"\\uc218\",\"\\uc6d4\",\"\\uc77c\",\"\\ud1a0\",\"\\ud654\",\"\\uae08\",\"\\ubaa9\",\"\\uc218\",\"\\uc6d4\",\"\\uc77c\",\"\\ud1a0\",\"\\ud654\",\"\\uae08\",\"\\ubaa9\",\"\\uc218\",\"\\uc6d4\",\"\\uc77c\",\"\\ud1a0\",\"\\ud654\",\"\\uae08\",\"\\ubaa9\",\"\\uc218\",\"\\uc6d4\",\"\\uc77c\",\"\\ud1a0\",\"\\ud654\",\"\\uae08\",\"\\ubaa9\",\"\\uc218\",\"\\uc6d4\",\"\\uc77c\",\"\\ud1a0\",\"\\ud654\",\"\\uae08\",\"\\ubaa9\",\"\\uc218\",\"\\uc6d4\",\"\\uc77c\",\"\\ud1a0\",\"\\ud654\",\"\\uae08\",\"\\ubaa9\",\"\\uc218\",\"\\uc6d4\",\"\\uc77c\",\"\\ud1a0\",\"\\ud654\",\"\\uae08\",\"\\ubaa9\",\"\\uc218\",\"\\uc6d4\",\"\\uc77c\",\"\\ud1a0\",\"\\ud654\",\"\\uae08\",\"\\ubaa9\",\"\\uc218\",\"\\uc6d4\",\"\\uc77c\",\"\\ud1a0\",\"\\ud654\",\"\\uae08\",\"\\ubaa9\",\"\\uc218\",\"\\uc6d4\",\"\\uc77c\",\"\\ud1a0\",\"\\ud654\",\"\\uae08\",\"\\ubaa9\",\"\\uc218\",\"\\uc6d4\",\"\\uc77c\",\"\\ud1a0\",\"\\ud654\",\"\\uae08\",\"\\ubaa9\",\"\\uc218\",\"\\uc6d4\",\"\\uc77c\",\"\\ud1a0\",\"\\ud654\",\"\\uae08\",\"\\ubaa9\",\"\\uc218\",\"\\uc6d4\",\"\\uc77c\",\"\\ud1a0\",\"\\ud654\",\"\\uae08\",\"\\ubaa9\",\"\\uc218\",\"\\uc6d4\",\"\\uc77c\",\"\\ud1a0\",\"\\ud654\",\"\\uae08\",\"\\ubaa9\",\"\\uc218\",\"\\uc6d4\",\"\\uc77c\",\"\\ud1a0\",\"\\ud654\",\"\\uae08\",\"\\ubaa9\",\"\\uc218\",\"\\uc6d4\",\"\\uc77c\",\"\\ud1a0\",\"\\ud654\",\"\\uae08\",\"\\ubaa9\",\"\\uc218\",\"\\uc6d4\",\"\\uc77c\",\"\\ud1a0\",\"\\ud654\",\"\\uae08\",\"\\ubaa9\",\"\\uc218\",\"\\uc6d4\",\"\\uc77c\",\"\\ud1a0\",\"\\ud654\",\"\\uae08\",\"\\ubaa9\",\"\\uc218\",\"\\uc6d4\",\"\\uc77c\",\"\\ud1a0\",\"\\ud654\",\"\\uae08\",\"\\ubaa9\",\"\\uc218\",\"\\uc6d4\",\"\\uc77c\",\"\\ud1a0\",\"\\ud654\",\"\\uae08\",\"\\ubaa9\",\"\\uc218\",\"\\uc6d4\",\"\\uc77c\",\"\\ud1a0\",\"\\ud654\",\"\\uae08\",\"\\ubaa9\",\"\\uc218\",\"\\uc6d4\",\"\\uc77c\",\"\\ud1a0\",\"\\ud654\",\"\\uae08\",\"\\ubaa9\",\"\\uc218\",\"\\uc6d4\",\"\\uc77c\",\"\\ud1a0\",\"\\ud654\",\"\\uae08\",\"\\ubaa9\",\"\\uc218\",\"\\uc6d4\",\"\\uc77c\",\"\\ud1a0\",\"\\ud654\"],\"yaxis\":\"y\",\"ybingroup\":\"y\",\"z\":[4.889898395295332e-05,5.184038313132204e-05,6.116378568153915e-05,6.192500620581454e-05,4.867451265381591e-05,4.57447448153166e-05,5.449040166377657e-05,4.808840856559643e-05,5.431164883830948e-05,5.95080286367072e-05,7.01657870423287e-05,4.5558581960528345e-05,4.3779793536928186e-05,5.371153739926472e-05,4.878273252150626e-05,6.564506227576916e-05,6.558620712482186e-05,4.722024947464294e-05,5.371833554638321e-05,4.813530120600683e-05,5.9327518000189613e-05,6.34974889800912e-05,6.256305382134688e-05,6.827551865012208e-05,5.831838054486283e-05,4.7426951540305794e-05,5.3113156583687176e-05,6.501232110857415e-05,6.419844452350097e-05,6.557612348720275e-05,5.361846347616713e-05,7.501200117229855e-05,5.4501276502573515e-05,5.36954428774924e-05,6.09770720963975e-05,8.213525549634397e-05,6.734676487404748e-05,6.279575915660333e-05,7.271806607809553e-05,7.543749941217084e-05,5.789639394612405e-05,7.368294268979752e-05,5.5162509076601056e-05,5.566553665245741e-05,5.598712473866864e-05,5.82080690005862e-05,7.952472316751356e-05,6.295669093404916e-05,5.296087558310268e-05,4.3339251930531036e-05,3.8891036987676096e-05,4.077717937393523e-05,4.4350735375279734e-05,7.760794422122645e-05,5.823198976572878e-05,4.014571412064587e-05,3.3304999075313214e-05,3.194733733068311e-05,3.2903688520327856e-05,3.511552334477387e-05,5.849479587077e-05,6.329730608490566e-05,3.0239910535490427e-05,3.012557127048596e-05,3.058161299605332e-05,3.105778192517575e-05,2.997742168251701e-05,4.551503691452916e-05,4.538403845477675e-05,3.0295735687408936e-05,3.592488451595608e-05,2.841971807469577e-05,3.096250909762546e-05,3.654893760953111e-05,4.465601215456055e-05,4.287566907836539e-05,2.8788144332399327e-05,3.0718583299376126e-05,3.139054878128309e-05,2.885125706597703e-05,3.567971201801838e-05,4.5688966332788196e-05,4.012185557659054e-05,3.1401137001383755e-05,2.9427012774861235e-05,2.8072220637437904e-05,2.8356901691793332e-05,3.68351958924078e-05,4.496255086996648e-05,3.8568061286522577e-05,3.1082537741861597e-05,3.454598391083255e-05,2.912536814022494e-05,3.2183704895910935e-05,3.626739408054189e-05,4.084005371383958e-05,3.334539954204504e-05,3.2717081723126535e-05,3.4045488976107045e-05,3.0483574952789655e-05,3.2657360092844285e-05,3.700353060885671e-05,3.917105541083395e-05,3.817735599696121e-05,3.3209439857716466e-05,3.080162213079083e-05,3.0482516889906108e-05,3.2385313596706385e-05,3.416021507732824e-05,3.898352553179462e-05,3.546830176689362e-05,3.0926922714119265e-05,3.485311718234654e-05,3.2536089830653354e-05,3.513650692732357e-05,3.6374777610569375e-05,3.6765405788468567e-05,3.670828647599709e-05,3.490920149655713e-05,3.449227456730189e-05,3.190937308395514e-05,3.260243838756182e-05,3.837000687649857e-05,4.2969895700655737e-05,3.648929023122584e-05,3.651160551548555e-05,3.7718419409648606e-05,3.5171677707915996e-05,3.426938006584745e-05,3.687521512933487e-05,3.965857969296879e-05,3.583103523861355e-05,3.5197765617747696e-05,3.553449344350005e-05,3.666518614712408e-05,3.800713880661725e-05,4.324538929618186e-05,4.4004188079270204e-05,3.315983385198783e-05,4.084229687121748e-05,4.0243374440793287e-05,4.115466120544063e-05,4.463905911483369e-05,4.7472294372555685e-05,4.622882864080493e-05,3.5949554491412764e-05,4.420867847885844e-05,4.145330173617502e-05,4.285079309064918e-05,4.373551959756939e-05,4.6841728151185616e-05,5.028697201841166e-05,3.945642365833438e-05,4.604553865445799e-05,3.966782648108991e-05,4.454546790905556e-05,4.390793462441752e-05,5.075381481080666e-05,5.1209161076426195e-05,4.101380586816511e-05,4.6374251298536607e-05,4.0172727931235506e-05,4.862714201534865e-05,4.721072678728939e-05,5.8369953650412785e-05,5.785112782340353e-05,3.869980757776298e-05,5.0336294998193645e-05],\"type\":\"histogram2d\"}],                        {\"template\":{\"data\":{\"histogram2dcontour\":[{\"type\":\"histogram2dcontour\",\"colorbar\":{\"outlinewidth\":0,\"ticks\":\"\"},\"colorscale\":[[0.0,\"#0d0887\"],[0.1111111111111111,\"#46039f\"],[0.2222222222222222,\"#7201a8\"],[0.3333333333333333,\"#9c179e\"],[0.4444444444444444,\"#bd3786\"],[0.5555555555555556,\"#d8576b\"],[0.6666666666666666,\"#ed7953\"],[0.7777777777777778,\"#fb9f3a\"],[0.8888888888888888,\"#fdca26\"],[1.0,\"#f0f921\"]]}],\"choropleth\":[{\"type\":\"choropleth\",\"colorbar\":{\"outlinewidth\":0,\"ticks\":\"\"}}],\"histogram2d\":[{\"type\":\"histogram2d\",\"colorbar\":{\"outlinewidth\":0,\"ticks\":\"\"},\"colorscale\":[[0.0,\"#0d0887\"],[0.1111111111111111,\"#46039f\"],[0.2222222222222222,\"#7201a8\"],[0.3333333333333333,\"#9c179e\"],[0.4444444444444444,\"#bd3786\"],[0.5555555555555556,\"#d8576b\"],[0.6666666666666666,\"#ed7953\"],[0.7777777777777778,\"#fb9f3a\"],[0.8888888888888888,\"#fdca26\"],[1.0,\"#f0f921\"]]}],\"heatmap\":[{\"type\":\"heatmap\",\"colorbar\":{\"outlinewidth\":0,\"ticks\":\"\"},\"colorscale\":[[0.0,\"#0d0887\"],[0.1111111111111111,\"#46039f\"],[0.2222222222222222,\"#7201a8\"],[0.3333333333333333,\"#9c179e\"],[0.4444444444444444,\"#bd3786\"],[0.5555555555555556,\"#d8576b\"],[0.6666666666666666,\"#ed7953\"],[0.7777777777777778,\"#fb9f3a\"],[0.8888888888888888,\"#fdca26\"],[1.0,\"#f0f921\"]]}],\"heatmapgl\":[{\"type\":\"heatmapgl\",\"colorbar\":{\"outlinewidth\":0,\"ticks\":\"\"},\"colorscale\":[[0.0,\"#0d0887\"],[0.1111111111111111,\"#46039f\"],[0.2222222222222222,\"#7201a8\"],[0.3333333333333333,\"#9c179e\"],[0.4444444444444444,\"#bd3786\"],[0.5555555555555556,\"#d8576b\"],[0.6666666666666666,\"#ed7953\"],[0.7777777777777778,\"#fb9f3a\"],[0.8888888888888888,\"#fdca26\"],[1.0,\"#f0f921\"]]}],\"contourcarpet\":[{\"type\":\"contourcarpet\",\"colorbar\":{\"outlinewidth\":0,\"ticks\":\"\"}}],\"contour\":[{\"type\":\"contour\",\"colorbar\":{\"outlinewidth\":0,\"ticks\":\"\"},\"colorscale\":[[0.0,\"#0d0887\"],[0.1111111111111111,\"#46039f\"],[0.2222222222222222,\"#7201a8\"],[0.3333333333333333,\"#9c179e\"],[0.4444444444444444,\"#bd3786\"],[0.5555555555555556,\"#d8576b\"],[0.6666666666666666,\"#ed7953\"],[0.7777777777777778,\"#fb9f3a\"],[0.8888888888888888,\"#fdca26\"],[1.0,\"#f0f921\"]]}],\"surface\":[{\"type\":\"surface\",\"colorbar\":{\"outlinewidth\":0,\"ticks\":\"\"},\"colorscale\":[[0.0,\"#0d0887\"],[0.1111111111111111,\"#46039f\"],[0.2222222222222222,\"#7201a8\"],[0.3333333333333333,\"#9c179e\"],[0.4444444444444444,\"#bd3786\"],[0.5555555555555556,\"#d8576b\"],[0.6666666666666666,\"#ed7953\"],[0.7777777777777778,\"#fb9f3a\"],[0.8888888888888888,\"#fdca26\"],[1.0,\"#f0f921\"]]}],\"mesh3d\":[{\"type\":\"mesh3d\",\"colorbar\":{\"outlinewidth\":0,\"ticks\":\"\"}}],\"scatter\":[{\"fillpattern\":{\"fillmode\":\"overlay\",\"size\":10,\"solidity\":0.2},\"type\":\"scatter\"}],\"parcoords\":[{\"type\":\"parcoords\",\"line\":{\"colorbar\":{\"outlinewidth\":0,\"ticks\":\"\"}}}],\"scatterpolargl\":[{\"type\":\"scatterpolargl\",\"marker\":{\"colorbar\":{\"outlinewidth\":0,\"ticks\":\"\"}}}],\"bar\":[{\"error_x\":{\"color\":\"#2a3f5f\"},\"error_y\":{\"color\":\"#2a3f5f\"},\"marker\":{\"line\":{\"color\":\"white\",\"width\":0.5},\"pattern\":{\"fillmode\":\"overlay\",\"size\":10,\"solidity\":0.2}},\"type\":\"bar\"}],\"scattergeo\":[{\"type\":\"scattergeo\",\"marker\":{\"colorbar\":{\"outlinewidth\":0,\"ticks\":\"\"}}}],\"scatterpolar\":[{\"type\":\"scatterpolar\",\"marker\":{\"colorbar\":{\"outlinewidth\":0,\"ticks\":\"\"}}}],\"histogram\":[{\"marker\":{\"pattern\":{\"fillmode\":\"overlay\",\"size\":10,\"solidity\":0.2}},\"type\":\"histogram\"}],\"scattergl\":[{\"type\":\"scattergl\",\"marker\":{\"colorbar\":{\"outlinewidth\":0,\"ticks\":\"\"}}}],\"scatter3d\":[{\"type\":\"scatter3d\",\"line\":{\"colorbar\":{\"outlinewidth\":0,\"ticks\":\"\"}},\"marker\":{\"colorbar\":{\"outlinewidth\":0,\"ticks\":\"\"}}}],\"scattermapbox\":[{\"type\":\"scattermapbox\",\"marker\":{\"colorbar\":{\"outlinewidth\":0,\"ticks\":\"\"}}}],\"scatterternary\":[{\"type\":\"scatterternary\",\"marker\":{\"colorbar\":{\"outlinewidth\":0,\"ticks\":\"\"}}}],\"scattercarpet\":[{\"type\":\"scattercarpet\",\"marker\":{\"colorbar\":{\"outlinewidth\":0,\"ticks\":\"\"}}}],\"carpet\":[{\"aaxis\":{\"endlinecolor\":\"#2a3f5f\",\"gridcolor\":\"#C8D4E3\",\"linecolor\":\"#C8D4E3\",\"minorgridcolor\":\"#C8D4E3\",\"startlinecolor\":\"#2a3f5f\"},\"baxis\":{\"endlinecolor\":\"#2a3f5f\",\"gridcolor\":\"#C8D4E3\",\"linecolor\":\"#C8D4E3\",\"minorgridcolor\":\"#C8D4E3\",\"startlinecolor\":\"#2a3f5f\"},\"type\":\"carpet\"}],\"table\":[{\"cells\":{\"fill\":{\"color\":\"#EBF0F8\"},\"line\":{\"color\":\"white\"}},\"header\":{\"fill\":{\"color\":\"#C8D4E3\"},\"line\":{\"color\":\"white\"}},\"type\":\"table\"}],\"barpolar\":[{\"marker\":{\"line\":{\"color\":\"white\",\"width\":0.5},\"pattern\":{\"fillmode\":\"overlay\",\"size\":10,\"solidity\":0.2}},\"type\":\"barpolar\"}],\"pie\":[{\"automargin\":true,\"type\":\"pie\"}]},\"layout\":{\"autotypenumbers\":\"strict\",\"colorway\":[\"#636efa\",\"#EF553B\",\"#00cc96\",\"#ab63fa\",\"#FFA15A\",\"#19d3f3\",\"#FF6692\",\"#B6E880\",\"#FF97FF\",\"#FECB52\"],\"font\":{\"color\":\"#2a3f5f\"},\"hovermode\":\"closest\",\"hoverlabel\":{\"align\":\"left\"},\"paper_bgcolor\":\"white\",\"plot_bgcolor\":\"white\",\"polar\":{\"bgcolor\":\"white\",\"angularaxis\":{\"gridcolor\":\"#EBF0F8\",\"linecolor\":\"#EBF0F8\",\"ticks\":\"\"},\"radialaxis\":{\"gridcolor\":\"#EBF0F8\",\"linecolor\":\"#EBF0F8\",\"ticks\":\"\"}},\"ternary\":{\"bgcolor\":\"white\",\"aaxis\":{\"gridcolor\":\"#DFE8F3\",\"linecolor\":\"#A2B1C6\",\"ticks\":\"\"},\"baxis\":{\"gridcolor\":\"#DFE8F3\",\"linecolor\":\"#A2B1C6\",\"ticks\":\"\"},\"caxis\":{\"gridcolor\":\"#DFE8F3\",\"linecolor\":\"#A2B1C6\",\"ticks\":\"\"}},\"coloraxis\":{\"colorbar\":{\"outlinewidth\":0,\"ticks\":\"\"}},\"colorscale\":{\"sequential\":[[0.0,\"#0d0887\"],[0.1111111111111111,\"#46039f\"],[0.2222222222222222,\"#7201a8\"],[0.3333333333333333,\"#9c179e\"],[0.4444444444444444,\"#bd3786\"],[0.5555555555555556,\"#d8576b\"],[0.6666666666666666,\"#ed7953\"],[0.7777777777777778,\"#fb9f3a\"],[0.8888888888888888,\"#fdca26\"],[1.0,\"#f0f921\"]],\"sequentialminus\":[[0.0,\"#0d0887\"],[0.1111111111111111,\"#46039f\"],[0.2222222222222222,\"#7201a8\"],[0.3333333333333333,\"#9c179e\"],[0.4444444444444444,\"#bd3786\"],[0.5555555555555556,\"#d8576b\"],[0.6666666666666666,\"#ed7953\"],[0.7777777777777778,\"#fb9f3a\"],[0.8888888888888888,\"#fdca26\"],[1.0,\"#f0f921\"]],\"diverging\":[[0,\"#8e0152\"],[0.1,\"#c51b7d\"],[0.2,\"#de77ae\"],[0.3,\"#f1b6da\"],[0.4,\"#fde0ef\"],[0.5,\"#f7f7f7\"],[0.6,\"#e6f5d0\"],[0.7,\"#b8e186\"],[0.8,\"#7fbc41\"],[0.9,\"#4d9221\"],[1,\"#276419\"]]},\"xaxis\":{\"gridcolor\":\"#EBF0F8\",\"linecolor\":\"#EBF0F8\",\"ticks\":\"\",\"title\":{\"standoff\":15},\"zerolinecolor\":\"#EBF0F8\",\"automargin\":true,\"zerolinewidth\":2},\"yaxis\":{\"gridcolor\":\"#EBF0F8\",\"linecolor\":\"#EBF0F8\",\"ticks\":\"\",\"title\":{\"standoff\":15},\"zerolinecolor\":\"#EBF0F8\",\"automargin\":true,\"zerolinewidth\":2},\"scene\":{\"xaxis\":{\"backgroundcolor\":\"white\",\"gridcolor\":\"#DFE8F3\",\"linecolor\":\"#EBF0F8\",\"showbackground\":true,\"ticks\":\"\",\"zerolinecolor\":\"#EBF0F8\",\"gridwidth\":2},\"yaxis\":{\"backgroundcolor\":\"white\",\"gridcolor\":\"#DFE8F3\",\"linecolor\":\"#EBF0F8\",\"showbackground\":true,\"ticks\":\"\",\"zerolinecolor\":\"#EBF0F8\",\"gridwidth\":2},\"zaxis\":{\"backgroundcolor\":\"white\",\"gridcolor\":\"#DFE8F3\",\"linecolor\":\"#EBF0F8\",\"showbackground\":true,\"ticks\":\"\",\"zerolinecolor\":\"#EBF0F8\",\"gridwidth\":2}},\"shapedefaults\":{\"line\":{\"color\":\"#2a3f5f\"}},\"annotationdefaults\":{\"arrowcolor\":\"#2a3f5f\",\"arrowhead\":0,\"arrowwidth\":1},\"geo\":{\"bgcolor\":\"white\",\"landcolor\":\"white\",\"subunitcolor\":\"#C8D4E3\",\"showland\":true,\"showlakes\":true,\"lakecolor\":\"white\"},\"title\":{\"x\":0.05},\"mapbox\":{\"style\":\"light\"}}},\"xaxis\":{\"anchor\":\"y\",\"domain\":[0.0,1.0],\"title\":{\"text\":\"\\ud0d1\\uc2b9\\uc2dc\\uac04\"}},\"yaxis\":{\"anchor\":\"x\",\"domain\":[0.0,1.0],\"title\":{\"text\":\"\\uc694\\uc77c\"}},\"coloraxis\":{\"colorbar\":{\"title\":{\"text\":\"sum of \\ud3c9\\uade0\\uc18d\\ub3c4\"}},\"colorscale\":[[0.0,\"#0d0887\"],[0.1111111111111111,\"#46039f\"],[0.2222222222222222,\"#7201a8\"],[0.3333333333333333,\"#9c179e\"],[0.4444444444444444,\"#bd3786\"],[0.5555555555555556,\"#d8576b\"],[0.6666666666666666,\"#ed7953\"],[0.7777777777777778,\"#fb9f3a\"],[0.8888888888888888,\"#fdca26\"],[1.0,\"#f0f921\"]]},\"legend\":{\"tracegroupgap\":0},\"margin\":{\"t\":60},\"height\":300},                        {\"responsive\": true}                    ).then(function(){\n",
       "                            \n",
       "var gd = document.getElementById('6c6ac168-5438-4273-a070-3cd808314c9d');\n",
       "var x = new MutationObserver(function (mutations, observer) {{\n",
       "        var display = window.getComputedStyle(gd).display;\n",
       "        if (!display || display === 'none') {{\n",
       "            console.log([gd, 'removed!']);\n",
       "            Plotly.purge(gd);\n",
       "            observer.disconnect();\n",
       "        }}\n",
       "}});\n",
       "\n",
       "// Listen for the removal of the full notebook cells\n",
       "var notebookContainer = gd.closest('#notebook-container');\n",
       "if (notebookContainer) {{\n",
       "    x.observe(notebookContainer, {childList: true});\n",
       "}}\n",
       "\n",
       "// Listen for the clearing of the current output cell\n",
       "var outputEl = gd.closest('.output');\n",
       "if (outputEl) {{\n",
       "    x.observe(outputEl, {childList: true});\n",
       "}}\n",
       "\n",
       "                        })                };                });            </script>        </div>"
      ]
     },
     "metadata": {},
     "output_type": "display_data"
    }
   ],
   "source": [
    "fig1.show()"
   ]
  },
  {
   "cell_type": "code",
   "execution_count": 21,
   "id": "11b31e30-aa58-45b9-a470-c79e42f2ea6f",
   "metadata": {},
   "outputs": [],
   "source": [
    "tidydata = df.pivot_table(\n",
    "    index = 'pickup_hour',\n",
    "    columns = 'dayofweek',\n",
    "    values = 'dist',\n",
    "    aggfunc = 'mean'\n",
    ").stack().reset_index().rename({0:'dist_mean'},axis=1)\n",
    "fig2=px.density_heatmap(\n",
    "    data_frame=tidydata,\n",
    "    x='pickup_hour',\n",
    "    y='dayofweek',\n",
    "    z='dist_mean',\n",
    "    nbinsx=24,\n",
    "    nbinsy=7,\n",
    "    height=300,\n",
    "    labels={\"pickup_hour\": \"탑승시간\", \"dayofweek\": \"요일\", 'dist_mean':'평균이동거리'}\n",
    ")"
   ]
  },
  {
   "cell_type": "code",
   "execution_count": 23,
   "id": "b5c2ab17-9b54-41b1-92d3-a41748ecdddc",
   "metadata": {},
   "outputs": [
    {
     "data": {
      "application/vnd.plotly.v1+json": {
       "config": {
        "plotlyServerURL": "https://plot.ly"
       },
       "data": [
        {
         "coloraxis": "coloraxis",
         "histfunc": "sum",
         "hovertemplate": "탑승시간=%{x}<br>요일=%{y}<br>sum of 평균이동거리=%{z}<extra></extra>",
         "name": "",
         "nbinsx": 24,
         "nbinsy": 7,
         "type": "histogram2d",
         "x": [
          0,
          0,
          0,
          0,
          0,
          0,
          0,
          1,
          1,
          1,
          1,
          1,
          1,
          1,
          2,
          2,
          2,
          2,
          2,
          2,
          2,
          3,
          3,
          3,
          3,
          3,
          3,
          3,
          4,
          4,
          4,
          4,
          4,
          4,
          4,
          5,
          5,
          5,
          5,
          5,
          5,
          5,
          6,
          6,
          6,
          6,
          6,
          6,
          6,
          7,
          7,
          7,
          7,
          7,
          7,
          7,
          8,
          8,
          8,
          8,
          8,
          8,
          8,
          9,
          9,
          9,
          9,
          9,
          9,
          9,
          10,
          10,
          10,
          10,
          10,
          10,
          10,
          11,
          11,
          11,
          11,
          11,
          11,
          11,
          12,
          12,
          12,
          12,
          12,
          12,
          12,
          13,
          13,
          13,
          13,
          13,
          13,
          13,
          14,
          14,
          14,
          14,
          14,
          14,
          14,
          15,
          15,
          15,
          15,
          15,
          15,
          15,
          16,
          16,
          16,
          16,
          16,
          16,
          16,
          17,
          17,
          17,
          17,
          17,
          17,
          17,
          18,
          18,
          18,
          18,
          18,
          18,
          18,
          19,
          19,
          19,
          19,
          19,
          19,
          19,
          20,
          20,
          20,
          20,
          20,
          20,
          20,
          21,
          21,
          21,
          21,
          21,
          21,
          21,
          22,
          22,
          22,
          22,
          22,
          22,
          22,
          23,
          23,
          23,
          23,
          23,
          23,
          23
         ],
         "xaxis": "x",
         "xbingroup": "x",
         "y": [
          "금",
          "목",
          "수",
          "월",
          "일",
          "토",
          "화",
          "금",
          "목",
          "수",
          "월",
          "일",
          "토",
          "화",
          "금",
          "목",
          "수",
          "월",
          "일",
          "토",
          "화",
          "금",
          "목",
          "수",
          "월",
          "일",
          "토",
          "화",
          "금",
          "목",
          "수",
          "월",
          "일",
          "토",
          "화",
          "금",
          "목",
          "수",
          "월",
          "일",
          "토",
          "화",
          "금",
          "목",
          "수",
          "월",
          "일",
          "토",
          "화",
          "금",
          "목",
          "수",
          "월",
          "일",
          "토",
          "화",
          "금",
          "목",
          "수",
          "월",
          "일",
          "토",
          "화",
          "금",
          "목",
          "수",
          "월",
          "일",
          "토",
          "화",
          "금",
          "목",
          "수",
          "월",
          "일",
          "토",
          "화",
          "금",
          "목",
          "수",
          "월",
          "일",
          "토",
          "화",
          "금",
          "목",
          "수",
          "월",
          "일",
          "토",
          "화",
          "금",
          "목",
          "수",
          "월",
          "일",
          "토",
          "화",
          "금",
          "목",
          "수",
          "월",
          "일",
          "토",
          "화",
          "금",
          "목",
          "수",
          "월",
          "일",
          "토",
          "화",
          "금",
          "목",
          "수",
          "월",
          "일",
          "토",
          "화",
          "금",
          "목",
          "수",
          "월",
          "일",
          "토",
          "화",
          "금",
          "목",
          "수",
          "월",
          "일",
          "토",
          "화",
          "금",
          "목",
          "수",
          "월",
          "일",
          "토",
          "화",
          "금",
          "목",
          "수",
          "월",
          "일",
          "토",
          "화",
          "금",
          "목",
          "수",
          "월",
          "일",
          "토",
          "화",
          "금",
          "목",
          "수",
          "월",
          "일",
          "토",
          "화",
          "금",
          "목",
          "수",
          "월",
          "일",
          "토",
          "화"
         ],
         "yaxis": "y",
         "ybingroup": "y",
         "z": [
          0.03941914483917277,
          0.04370735751553739,
          0.06189425076297976,
          0.03715809838079698,
          0.039962176173149275,
          0.036707167535579545,
          0.04549263088199272,
          0.041799452835402005,
          0.0417765374180669,
          0.039073634201646286,
          0.05200302769060466,
          0.0384030605806378,
          0.03566950941170107,
          0.026491866724439015,
          0.02747939721328583,
          0.046409338050018074,
          0.04027817512479525,
          0.03454166059277303,
          0.03932604021053794,
          0.0380489921489175,
          0.05237136448088479,
          0.04467300794711169,
          0.05493347173018719,
          0.045001889217295234,
          0.05596315189409232,
          0.037395030232690134,
          0.03696210181836352,
          0.042291832373646004,
          0.06040430813029304,
          0.061569806741913605,
          0.02712641035763739,
          0.07063039696986095,
          0.03617073372297567,
          0.04587911863822203,
          0.03189731490250098,
          0.07023081911325425,
          0.046512677925574106,
          0.04090444437849963,
          0.06426270786989556,
          0.0819519990101009,
          0.04823124935776199,
          0.052113797374228325,
          0.038559495853808044,
          0.05250827412143831,
          0.03554282147884122,
          0.034490535452775584,
          0.08455383063086612,
          0.04423147111534784,
          0.03625948497196739,
          0.036675286599085095,
          0.03531027339163442,
          0.026562429760155624,
          0.032737782045627016,
          0.07728771678955991,
          0.03502778652413812,
          0.036995698246546305,
          0.032616090198524406,
          0.029133885897888828,
          0.028137832185748304,
          0.03271897536089555,
          0.040662783558606266,
          0.05684438361280244,
          0.026760267886113808,
          0.022036573919088698,
          0.029901509572592543,
          0.028848291392458557,
          0.022300252808707045,
          0.02651724954324167,
          0.02883829437172897,
          0.027077751296383516,
          0.0390431164668389,
          0.027772390194162014,
          0.03436772147280834,
          0.036457711731007814,
          0.024978445983095104,
          0.03135331752009965,
          0.026826090075304745,
          0.030196453798128214,
          0.02858396613665924,
          0.028384887815572114,
          0.03259913640889305,
          0.035339142705562855,
          0.029968986432524772,
          0.034316439823832576,
          0.02723147055623086,
          0.02919986838270981,
          0.029861333110209855,
          0.03791273701584093,
          0.04011498662915437,
          0.030354061779279694,
          0.03498805312265091,
          0.03293566054375842,
          0.0317612270262194,
          0.03094931538110388,
          0.031148218766055,
          0.03072317013788322,
          0.02574892204102297,
          0.035544501630472854,
          0.043647154028390374,
          0.03471946142251515,
          0.04105512493816869,
          0.03073260549089396,
          0.039420942718037456,
          0.03185745950220361,
          0.03838823500419107,
          0.03415901588979847,
          0.03516035201971669,
          0.030896039734749265,
          0.03561671744114983,
          0.041070572515632585,
          0.03626576223452341,
          0.02821292607678347,
          0.03676054346801498,
          0.032241751574696526,
          0.0383327715434659,
          0.045856793688758724,
          0.041828181994856564,
          0.031655929237335456,
          0.03586750914515103,
          0.03317075478918968,
          0.028428726680918188,
          0.0440284327758578,
          0.03489709547473452,
          0.04344609099751088,
          0.03446797731080265,
          0.03883433324239985,
          0.027736605265520214,
          0.030790591800766605,
          0.034202250485253306,
          0.03206766072125966,
          0.031280398092728846,
          0.03424314095287038,
          0.02572514272219912,
          0.0327639608191616,
          0.0276523888329859,
          0.033418178249557354,
          0.030931047636591467,
          0.033589561605802655,
          0.026601148073475155,
          0.033088420498453834,
          0.03269130293295594,
          0.03442330713780692,
          0.037728969952857336,
          0.03478322182868066,
          0.042991760551657536,
          0.029834599637768515,
          0.036793867026316575,
          0.03259886897954823,
          0.0468108838653546,
          0.04105665766647581,
          0.03504153532967092,
          0.04127852982142265,
          0.028572862569402776,
          0.03320750581322103,
          0.03289081100831811,
          0.03680314709375805,
          0.03501931863015318,
          0.039807563106260796,
          0.03989386796977483,
          0.034023159026747324,
          0.03796506613207811,
          0.0341054864926265,
          0.04528582049448872,
          0.04053196598643651,
          0.041753717014843476,
          0.04541865114558133,
          0.03508011042417724,
          0.0441184974197329
         ]
        }
       ],
       "layout": {
        "autosize": true,
        "coloraxis": {
         "colorbar": {
          "title": {
           "text": "sum of 평균이동거리"
          }
         },
         "colorscale": [
          [
           0,
           "#0d0887"
          ],
          [
           0.1111111111111111,
           "#46039f"
          ],
          [
           0.2222222222222222,
           "#7201a8"
          ],
          [
           0.3333333333333333,
           "#9c179e"
          ],
          [
           0.4444444444444444,
           "#bd3786"
          ],
          [
           0.5555555555555556,
           "#d8576b"
          ],
          [
           0.6666666666666666,
           "#ed7953"
          ],
          [
           0.7777777777777778,
           "#fb9f3a"
          ],
          [
           0.8888888888888888,
           "#fdca26"
          ],
          [
           1,
           "#f0f921"
          ]
         ]
        },
        "legend": {
         "tracegroupgap": 0
        },
        "margin": {
         "t": 60
        },
        "template": {
         "data": {
          "bar": [
           {
            "error_x": {
             "color": "#2a3f5f"
            },
            "error_y": {
             "color": "#2a3f5f"
            },
            "marker": {
             "line": {
              "color": "white",
              "width": 0.5
             },
             "pattern": {
              "fillmode": "overlay",
              "size": 10,
              "solidity": 0.2
             }
            },
            "type": "bar"
           }
          ],
          "barpolar": [
           {
            "marker": {
             "line": {
              "color": "white",
              "width": 0.5
             },
             "pattern": {
              "fillmode": "overlay",
              "size": 10,
              "solidity": 0.2
             }
            },
            "type": "barpolar"
           }
          ],
          "carpet": [
           {
            "aaxis": {
             "endlinecolor": "#2a3f5f",
             "gridcolor": "#C8D4E3",
             "linecolor": "#C8D4E3",
             "minorgridcolor": "#C8D4E3",
             "startlinecolor": "#2a3f5f"
            },
            "baxis": {
             "endlinecolor": "#2a3f5f",
             "gridcolor": "#C8D4E3",
             "linecolor": "#C8D4E3",
             "minorgridcolor": "#C8D4E3",
             "startlinecolor": "#2a3f5f"
            },
            "type": "carpet"
           }
          ],
          "choropleth": [
           {
            "colorbar": {
             "outlinewidth": 0,
             "ticks": ""
            },
            "type": "choropleth"
           }
          ],
          "contour": [
           {
            "colorbar": {
             "outlinewidth": 0,
             "ticks": ""
            },
            "colorscale": [
             [
              0,
              "#0d0887"
             ],
             [
              0.1111111111111111,
              "#46039f"
             ],
             [
              0.2222222222222222,
              "#7201a8"
             ],
             [
              0.3333333333333333,
              "#9c179e"
             ],
             [
              0.4444444444444444,
              "#bd3786"
             ],
             [
              0.5555555555555556,
              "#d8576b"
             ],
             [
              0.6666666666666666,
              "#ed7953"
             ],
             [
              0.7777777777777778,
              "#fb9f3a"
             ],
             [
              0.8888888888888888,
              "#fdca26"
             ],
             [
              1,
              "#f0f921"
             ]
            ],
            "type": "contour"
           }
          ],
          "contourcarpet": [
           {
            "colorbar": {
             "outlinewidth": 0,
             "ticks": ""
            },
            "type": "contourcarpet"
           }
          ],
          "heatmap": [
           {
            "colorbar": {
             "outlinewidth": 0,
             "ticks": ""
            },
            "colorscale": [
             [
              0,
              "#0d0887"
             ],
             [
              0.1111111111111111,
              "#46039f"
             ],
             [
              0.2222222222222222,
              "#7201a8"
             ],
             [
              0.3333333333333333,
              "#9c179e"
             ],
             [
              0.4444444444444444,
              "#bd3786"
             ],
             [
              0.5555555555555556,
              "#d8576b"
             ],
             [
              0.6666666666666666,
              "#ed7953"
             ],
             [
              0.7777777777777778,
              "#fb9f3a"
             ],
             [
              0.8888888888888888,
              "#fdca26"
             ],
             [
              1,
              "#f0f921"
             ]
            ],
            "type": "heatmap"
           }
          ],
          "heatmapgl": [
           {
            "colorbar": {
             "outlinewidth": 0,
             "ticks": ""
            },
            "colorscale": [
             [
              0,
              "#0d0887"
             ],
             [
              0.1111111111111111,
              "#46039f"
             ],
             [
              0.2222222222222222,
              "#7201a8"
             ],
             [
              0.3333333333333333,
              "#9c179e"
             ],
             [
              0.4444444444444444,
              "#bd3786"
             ],
             [
              0.5555555555555556,
              "#d8576b"
             ],
             [
              0.6666666666666666,
              "#ed7953"
             ],
             [
              0.7777777777777778,
              "#fb9f3a"
             ],
             [
              0.8888888888888888,
              "#fdca26"
             ],
             [
              1,
              "#f0f921"
             ]
            ],
            "type": "heatmapgl"
           }
          ],
          "histogram": [
           {
            "marker": {
             "pattern": {
              "fillmode": "overlay",
              "size": 10,
              "solidity": 0.2
             }
            },
            "type": "histogram"
           }
          ],
          "histogram2d": [
           {
            "colorbar": {
             "outlinewidth": 0,
             "ticks": ""
            },
            "colorscale": [
             [
              0,
              "#0d0887"
             ],
             [
              0.1111111111111111,
              "#46039f"
             ],
             [
              0.2222222222222222,
              "#7201a8"
             ],
             [
              0.3333333333333333,
              "#9c179e"
             ],
             [
              0.4444444444444444,
              "#bd3786"
             ],
             [
              0.5555555555555556,
              "#d8576b"
             ],
             [
              0.6666666666666666,
              "#ed7953"
             ],
             [
              0.7777777777777778,
              "#fb9f3a"
             ],
             [
              0.8888888888888888,
              "#fdca26"
             ],
             [
              1,
              "#f0f921"
             ]
            ],
            "type": "histogram2d"
           }
          ],
          "histogram2dcontour": [
           {
            "colorbar": {
             "outlinewidth": 0,
             "ticks": ""
            },
            "colorscale": [
             [
              0,
              "#0d0887"
             ],
             [
              0.1111111111111111,
              "#46039f"
             ],
             [
              0.2222222222222222,
              "#7201a8"
             ],
             [
              0.3333333333333333,
              "#9c179e"
             ],
             [
              0.4444444444444444,
              "#bd3786"
             ],
             [
              0.5555555555555556,
              "#d8576b"
             ],
             [
              0.6666666666666666,
              "#ed7953"
             ],
             [
              0.7777777777777778,
              "#fb9f3a"
             ],
             [
              0.8888888888888888,
              "#fdca26"
             ],
             [
              1,
              "#f0f921"
             ]
            ],
            "type": "histogram2dcontour"
           }
          ],
          "mesh3d": [
           {
            "colorbar": {
             "outlinewidth": 0,
             "ticks": ""
            },
            "type": "mesh3d"
           }
          ],
          "parcoords": [
           {
            "line": {
             "colorbar": {
              "outlinewidth": 0,
              "ticks": ""
             }
            },
            "type": "parcoords"
           }
          ],
          "pie": [
           {
            "automargin": true,
            "type": "pie"
           }
          ],
          "scatter": [
           {
            "fillpattern": {
             "fillmode": "overlay",
             "size": 10,
             "solidity": 0.2
            },
            "type": "scatter"
           }
          ],
          "scatter3d": [
           {
            "line": {
             "colorbar": {
              "outlinewidth": 0,
              "ticks": ""
             }
            },
            "marker": {
             "colorbar": {
              "outlinewidth": 0,
              "ticks": ""
             }
            },
            "type": "scatter3d"
           }
          ],
          "scattercarpet": [
           {
            "marker": {
             "colorbar": {
              "outlinewidth": 0,
              "ticks": ""
             }
            },
            "type": "scattercarpet"
           }
          ],
          "scattergeo": [
           {
            "marker": {
             "colorbar": {
              "outlinewidth": 0,
              "ticks": ""
             }
            },
            "type": "scattergeo"
           }
          ],
          "scattergl": [
           {
            "marker": {
             "colorbar": {
              "outlinewidth": 0,
              "ticks": ""
             }
            },
            "type": "scattergl"
           }
          ],
          "scattermapbox": [
           {
            "marker": {
             "colorbar": {
              "outlinewidth": 0,
              "ticks": ""
             }
            },
            "type": "scattermapbox"
           }
          ],
          "scatterpolar": [
           {
            "marker": {
             "colorbar": {
              "outlinewidth": 0,
              "ticks": ""
             }
            },
            "type": "scatterpolar"
           }
          ],
          "scatterpolargl": [
           {
            "marker": {
             "colorbar": {
              "outlinewidth": 0,
              "ticks": ""
             }
            },
            "type": "scatterpolargl"
           }
          ],
          "scatterternary": [
           {
            "marker": {
             "colorbar": {
              "outlinewidth": 0,
              "ticks": ""
             }
            },
            "type": "scatterternary"
           }
          ],
          "surface": [
           {
            "colorbar": {
             "outlinewidth": 0,
             "ticks": ""
            },
            "colorscale": [
             [
              0,
              "#0d0887"
             ],
             [
              0.1111111111111111,
              "#46039f"
             ],
             [
              0.2222222222222222,
              "#7201a8"
             ],
             [
              0.3333333333333333,
              "#9c179e"
             ],
             [
              0.4444444444444444,
              "#bd3786"
             ],
             [
              0.5555555555555556,
              "#d8576b"
             ],
             [
              0.6666666666666666,
              "#ed7953"
             ],
             [
              0.7777777777777778,
              "#fb9f3a"
             ],
             [
              0.8888888888888888,
              "#fdca26"
             ],
             [
              1,
              "#f0f921"
             ]
            ],
            "type": "surface"
           }
          ],
          "table": [
           {
            "cells": {
             "fill": {
              "color": "#EBF0F8"
             },
             "line": {
              "color": "white"
             }
            },
            "header": {
             "fill": {
              "color": "#C8D4E3"
             },
             "line": {
              "color": "white"
             }
            },
            "type": "table"
           }
          ]
         },
         "layout": {
          "annotationdefaults": {
           "arrowcolor": "#2a3f5f",
           "arrowhead": 0,
           "arrowwidth": 1
          },
          "autotypenumbers": "strict",
          "coloraxis": {
           "colorbar": {
            "outlinewidth": 0,
            "ticks": ""
           }
          },
          "colorscale": {
           "diverging": [
            [
             0,
             "#8e0152"
            ],
            [
             0.1,
             "#c51b7d"
            ],
            [
             0.2,
             "#de77ae"
            ],
            [
             0.3,
             "#f1b6da"
            ],
            [
             0.4,
             "#fde0ef"
            ],
            [
             0.5,
             "#f7f7f7"
            ],
            [
             0.6,
             "#e6f5d0"
            ],
            [
             0.7,
             "#b8e186"
            ],
            [
             0.8,
             "#7fbc41"
            ],
            [
             0.9,
             "#4d9221"
            ],
            [
             1,
             "#276419"
            ]
           ],
           "sequential": [
            [
             0,
             "#0d0887"
            ],
            [
             0.1111111111111111,
             "#46039f"
            ],
            [
             0.2222222222222222,
             "#7201a8"
            ],
            [
             0.3333333333333333,
             "#9c179e"
            ],
            [
             0.4444444444444444,
             "#bd3786"
            ],
            [
             0.5555555555555556,
             "#d8576b"
            ],
            [
             0.6666666666666666,
             "#ed7953"
            ],
            [
             0.7777777777777778,
             "#fb9f3a"
            ],
            [
             0.8888888888888888,
             "#fdca26"
            ],
            [
             1,
             "#f0f921"
            ]
           ],
           "sequentialminus": [
            [
             0,
             "#0d0887"
            ],
            [
             0.1111111111111111,
             "#46039f"
            ],
            [
             0.2222222222222222,
             "#7201a8"
            ],
            [
             0.3333333333333333,
             "#9c179e"
            ],
            [
             0.4444444444444444,
             "#bd3786"
            ],
            [
             0.5555555555555556,
             "#d8576b"
            ],
            [
             0.6666666666666666,
             "#ed7953"
            ],
            [
             0.7777777777777778,
             "#fb9f3a"
            ],
            [
             0.8888888888888888,
             "#fdca26"
            ],
            [
             1,
             "#f0f921"
            ]
           ]
          },
          "colorway": [
           "#636efa",
           "#EF553B",
           "#00cc96",
           "#ab63fa",
           "#FFA15A",
           "#19d3f3",
           "#FF6692",
           "#B6E880",
           "#FF97FF",
           "#FECB52"
          ],
          "font": {
           "color": "#2a3f5f"
          },
          "geo": {
           "bgcolor": "white",
           "lakecolor": "white",
           "landcolor": "white",
           "showlakes": true,
           "showland": true,
           "subunitcolor": "#C8D4E3"
          },
          "hoverlabel": {
           "align": "left"
          },
          "hovermode": "closest",
          "mapbox": {
           "style": "light"
          },
          "paper_bgcolor": "white",
          "plot_bgcolor": "white",
          "polar": {
           "angularaxis": {
            "gridcolor": "#EBF0F8",
            "linecolor": "#EBF0F8",
            "ticks": ""
           },
           "bgcolor": "white",
           "radialaxis": {
            "gridcolor": "#EBF0F8",
            "linecolor": "#EBF0F8",
            "ticks": ""
           }
          },
          "scene": {
           "xaxis": {
            "backgroundcolor": "white",
            "gridcolor": "#DFE8F3",
            "gridwidth": 2,
            "linecolor": "#EBF0F8",
            "showbackground": true,
            "ticks": "",
            "zerolinecolor": "#EBF0F8"
           },
           "yaxis": {
            "backgroundcolor": "white",
            "gridcolor": "#DFE8F3",
            "gridwidth": 2,
            "linecolor": "#EBF0F8",
            "showbackground": true,
            "ticks": "",
            "zerolinecolor": "#EBF0F8"
           },
           "zaxis": {
            "backgroundcolor": "white",
            "gridcolor": "#DFE8F3",
            "gridwidth": 2,
            "linecolor": "#EBF0F8",
            "showbackground": true,
            "ticks": "",
            "zerolinecolor": "#EBF0F8"
           }
          },
          "shapedefaults": {
           "line": {
            "color": "#2a3f5f"
           }
          },
          "ternary": {
           "aaxis": {
            "gridcolor": "#DFE8F3",
            "linecolor": "#A2B1C6",
            "ticks": ""
           },
           "baxis": {
            "gridcolor": "#DFE8F3",
            "linecolor": "#A2B1C6",
            "ticks": ""
           },
           "bgcolor": "white",
           "caxis": {
            "gridcolor": "#DFE8F3",
            "linecolor": "#A2B1C6",
            "ticks": ""
           }
          },
          "title": {
           "x": 0.05
          },
          "xaxis": {
           "automargin": true,
           "gridcolor": "#EBF0F8",
           "linecolor": "#EBF0F8",
           "ticks": "",
           "title": {
            "standoff": 15
           },
           "zerolinecolor": "#EBF0F8",
           "zerolinewidth": 2
          },
          "yaxis": {
           "automargin": true,
           "gridcolor": "#EBF0F8",
           "linecolor": "#EBF0F8",
           "ticks": "",
           "title": {
            "standoff": 15
           },
           "zerolinecolor": "#EBF0F8",
           "zerolinewidth": 2
          }
         }
        },
        "xaxis": {
         "anchor": "y",
         "autorange": true,
         "domain": [
          0,
          1
         ],
         "range": [
          -0.5,
          23.5
         ],
         "title": {
          "text": "탑승시간"
         },
         "type": "linear"
        },
        "yaxis": {
         "anchor": "x",
         "autorange": true,
         "domain": [
          0,
          1
         ],
         "range": [
          -0.5,
          6.5
         ],
         "title": {
          "text": "요일"
         },
         "type": "category"
        }
       }
      },
      "image/png": "[encoded data removed]",
      "text/html": [
       "<div>                            <div id=\"c3f21c9f-d91d-4ad2-b57f-aaad88836655\" class=\"plotly-graph-div\" style=\"height:300px; width:100%;\"></div>            <script type=\"text/javascript\">                require([\"plotly\"], function(Plotly) {                    window.PLOTLYENV=window.PLOTLYENV || {};                                    if (document.getElementById(\"c3f21c9f-d91d-4ad2-b57f-aaad88836655\")) {                    Plotly.newPlot(                        \"c3f21c9f-d91d-4ad2-b57f-aaad88836655\",                        [{\"coloraxis\":\"coloraxis\",\"histfunc\":\"sum\",\"hovertemplate\":\"\\ud0d1\\uc2b9\\uc2dc\\uac04=%{x}\\u003cbr\\u003e\\uc694\\uc77c=%{y}\\u003cbr\\u003esum of \\ud3c9\\uade0\\uc774\\ub3d9\\uac70\\ub9ac=%{z}\\u003cextra\\u003e\\u003c\\u002fextra\\u003e\",\"name\":\"\",\"nbinsx\":24,\"nbinsy\":7,\"x\":[0,0,0,0,0,0,0,1,1,1,1,1,1,1,2,2,2,2,2,2,2,3,3,3,3,3,3,3,4,4,4,4,4,4,4,5,5,5,5,5,5,5,6,6,6,6,6,6,6,7,7,7,7,7,7,7,8,8,8,8,8,8,8,9,9,9,9,9,9,9,10,10,10,10,10,10,10,11,11,11,11,11,11,11,12,12,12,12,12,12,12,13,13,13,13,13,13,13,14,14,14,14,14,14,14,15,15,15,15,15,15,15,16,16,16,16,16,16,16,17,17,17,17,17,17,17,18,18,18,18,18,18,18,19,19,19,19,19,19,19,20,20,20,20,20,20,20,21,21,21,21,21,21,21,22,22,22,22,22,22,22,23,23,23,23,23,23,23],\"xaxis\":\"x\",\"xbingroup\":\"x\",\"y\":[\"\\uae08\",\"\\ubaa9\",\"\\uc218\",\"\\uc6d4\",\"\\uc77c\",\"\\ud1a0\",\"\\ud654\",\"\\uae08\",\"\\ubaa9\",\"\\uc218\",\"\\uc6d4\",\"\\uc77c\",\"\\ud1a0\",\"\\ud654\",\"\\uae08\",\"\\ubaa9\",\"\\uc218\",\"\\uc6d4\",\"\\uc77c\",\"\\ud1a0\",\"\\ud654\",\"\\uae08\",\"\\ubaa9\",\"\\uc218\",\"\\uc6d4\",\"\\uc77c\",\"\\ud1a0\",\"\\ud654\",\"\\uae08\",\"\\ubaa9\",\"\\uc218\",\"\\uc6d4\",\"\\uc77c\",\"\\ud1a0\",\"\\ud654\",\"\\uae08\",\"\\ubaa9\",\"\\uc218\",\"\\uc6d4\",\"\\uc77c\",\"\\ud1a0\",\"\\ud654\",\"\\uae08\",\"\\ubaa9\",\"\\uc218\",\"\\uc6d4\",\"\\uc77c\",\"\\ud1a0\",\"\\ud654\",\"\\uae08\",\"\\ubaa9\",\"\\uc218\",\"\\uc6d4\",\"\\uc77c\",\"\\ud1a0\",\"\\ud654\",\"\\uae08\",\"\\ubaa9\",\"\\uc218\",\"\\uc6d4\",\"\\uc77c\",\"\\ud1a0\",\"\\ud654\",\"\\uae08\",\"\\ubaa9\",\"\\uc218\",\"\\uc6d4\",\"\\uc77c\",\"\\ud1a0\",\"\\ud654\",\"\\uae08\",\"\\ubaa9\",\"\\uc218\",\"\\uc6d4\",\"\\uc77c\",\"\\ud1a0\",\"\\ud654\",\"\\uae08\",\"\\ubaa9\",\"\\uc218\",\"\\uc6d4\",\"\\uc77c\",\"\\ud1a0\",\"\\ud654\",\"\\uae08\",\"\\ubaa9\",\"\\uc218\",\"\\uc6d4\",\"\\uc77c\",\"\\ud1a0\",\"\\ud654\",\"\\uae08\",\"\\ubaa9\",\"\\uc218\",\"\\uc6d4\",\"\\uc77c\",\"\\ud1a0\",\"\\ud654\",\"\\uae08\",\"\\ubaa9\",\"\\uc218\",\"\\uc6d4\",\"\\uc77c\",\"\\ud1a0\",\"\\ud654\",\"\\uae08\",\"\\ubaa9\",\"\\uc218\",\"\\uc6d4\",\"\\uc77c\",\"\\ud1a0\",\"\\ud654\",\"\\uae08\",\"\\ubaa9\",\"\\uc218\",\"\\uc6d4\",\"\\uc77c\",\"\\ud1a0\",\"\\ud654\",\"\\uae08\",\"\\ubaa9\",\"\\uc218\",\"\\uc6d4\",\"\\uc77c\",\"\\ud1a0\",\"\\ud654\",\"\\uae08\",\"\\ubaa9\",\"\\uc218\",\"\\uc6d4\",\"\\uc77c\",\"\\ud1a0\",\"\\ud654\",\"\\uae08\",\"\\ubaa9\",\"\\uc218\",\"\\uc6d4\",\"\\uc77c\",\"\\ud1a0\",\"\\ud654\",\"\\uae08\",\"\\ubaa9\",\"\\uc218\",\"\\uc6d4\",\"\\uc77c\",\"\\ud1a0\",\"\\ud654\",\"\\uae08\",\"\\ubaa9\",\"\\uc218\",\"\\uc6d4\",\"\\uc77c\",\"\\ud1a0\",\"\\ud654\",\"\\uae08\",\"\\ubaa9\",\"\\uc218\",\"\\uc6d4\",\"\\uc77c\",\"\\ud1a0\",\"\\ud654\",\"\\uae08\",\"\\ubaa9\",\"\\uc218\",\"\\uc6d4\",\"\\uc77c\",\"\\ud1a0\",\"\\ud654\"],\"yaxis\":\"y\",\"ybingroup\":\"y\",\"z\":[0.03941914483917277,0.04370735751553739,0.06189425076297976,0.03715809838079698,0.039962176173149275,0.036707167535579545,0.04549263088199272,0.041799452835402005,0.0417765374180669,0.039073634201646286,0.05200302769060466,0.0384030605806378,0.03566950941170107,0.026491866724439015,0.02747939721328583,0.046409338050018074,0.04027817512479525,0.03454166059277303,0.03932604021053794,0.0380489921489175,0.05237136448088479,0.04467300794711169,0.05493347173018719,0.045001889217295234,0.05596315189409232,0.037395030232690134,0.03696210181836352,0.042291832373646004,0.06040430813029304,0.061569806741913605,0.02712641035763739,0.07063039696986095,0.03617073372297567,0.04587911863822203,0.03189731490250098,0.07023081911325425,0.046512677925574106,0.04090444437849963,0.06426270786989556,0.0819519990101009,0.04823124935776199,0.052113797374228325,0.038559495853808044,0.05250827412143831,0.03554282147884122,0.034490535452775584,0.08455383063086612,0.04423147111534784,0.03625948497196739,0.036675286599085095,0.03531027339163442,0.026562429760155624,0.032737782045627016,0.07728771678955991,0.03502778652413812,0.036995698246546305,0.032616090198524406,0.029133885897888828,0.028137832185748304,0.03271897536089555,0.040662783558606266,0.05684438361280244,0.026760267886113808,0.022036573919088698,0.029901509572592543,0.028848291392458557,0.022300252808707045,0.02651724954324167,0.02883829437172897,0.027077751296383516,0.0390431164668389,0.027772390194162014,0.03436772147280834,0.036457711731007814,0.024978445983095104,0.03135331752009965,0.026826090075304745,0.030196453798128214,0.02858396613665924,0.028384887815572114,0.03259913640889305,0.035339142705562855,0.029968986432524772,0.034316439823832576,0.02723147055623086,0.02919986838270981,0.029861333110209855,0.03791273701584093,0.04011498662915437,0.030354061779279694,0.03498805312265091,0.03293566054375842,0.0317612270262194,0.03094931538110388,0.031148218766055,0.03072317013788322,0.02574892204102297,0.035544501630472854,0.043647154028390374,0.03471946142251515,0.04105512493816869,0.03073260549089396,0.039420942718037456,0.03185745950220361,0.03838823500419107,0.03415901588979847,0.03516035201971669,0.030896039734749265,0.03561671744114983,0.041070572515632585,0.03626576223452341,0.02821292607678347,0.03676054346801498,0.032241751574696526,0.0383327715434659,0.045856793688758724,0.041828181994856564,0.031655929237335456,0.03586750914515103,0.03317075478918968,0.028428726680918188,0.0440284327758578,0.03489709547473452,0.04344609099751088,0.03446797731080265,0.03883433324239985,0.027736605265520214,0.030790591800766605,0.034202250485253306,0.03206766072125966,0.031280398092728846,0.03424314095287038,0.02572514272219912,0.0327639608191616,0.0276523888329859,0.033418178249557354,0.030931047636591467,0.033589561605802655,0.026601148073475155,0.033088420498453834,0.03269130293295594,0.03442330713780692,0.037728969952857336,0.03478322182868066,0.042991760551657536,0.029834599637768515,0.036793867026316575,0.03259886897954823,0.0468108838653546,0.04105665766647581,0.03504153532967092,0.04127852982142265,0.028572862569402776,0.03320750581322103,0.03289081100831811,0.03680314709375805,0.03501931863015318,0.039807563106260796,0.03989386796977483,0.034023159026747324,0.03796506613207811,0.0341054864926265,0.04528582049448872,0.04053196598643651,0.041753717014843476,0.04541865114558133,0.03508011042417724,0.0441184974197329],\"type\":\"histogram2d\"}],                        {\"template\":{\"data\":{\"histogram2dcontour\":[{\"type\":\"histogram2dcontour\",\"colorbar\":{\"outlinewidth\":0,\"ticks\":\"\"},\"colorscale\":[[0.0,\"#0d0887\"],[0.1111111111111111,\"#46039f\"],[0.2222222222222222,\"#7201a8\"],[0.3333333333333333,\"#9c179e\"],[0.4444444444444444,\"#bd3786\"],[0.5555555555555556,\"#d8576b\"],[0.6666666666666666,\"#ed7953\"],[0.7777777777777778,\"#fb9f3a\"],[0.8888888888888888,\"#fdca26\"],[1.0,\"#f0f921\"]]}],\"choropleth\":[{\"type\":\"choropleth\",\"colorbar\":{\"outlinewidth\":0,\"ticks\":\"\"}}],\"histogram2d\":[{\"type\":\"histogram2d\",\"colorbar\":{\"outlinewidth\":0,\"ticks\":\"\"},\"colorscale\":[[0.0,\"#0d0887\"],[0.1111111111111111,\"#46039f\"],[0.2222222222222222,\"#7201a8\"],[0.3333333333333333,\"#9c179e\"],[0.4444444444444444,\"#bd3786\"],[0.5555555555555556,\"#d8576b\"],[0.6666666666666666,\"#ed7953\"],[0.7777777777777778,\"#fb9f3a\"],[0.8888888888888888,\"#fdca26\"],[1.0,\"#f0f921\"]]}],\"heatmap\":[{\"type\":\"heatmap\",\"colorbar\":{\"outlinewidth\":0,\"ticks\":\"\"},\"colorscale\":[[0.0,\"#0d0887\"],[0.1111111111111111,\"#46039f\"],[0.2222222222222222,\"#7201a8\"],[0.3333333333333333,\"#9c179e\"],[0.4444444444444444,\"#bd3786\"],[0.5555555555555556,\"#d8576b\"],[0.6666666666666666,\"#ed7953\"],[0.7777777777777778,\"#fb9f3a\"],[0.8888888888888888,\"#fdca26\"],[1.0,\"#f0f921\"]]}],\"heatmapgl\":[{\"type\":\"heatmapgl\",\"colorbar\":{\"outlinewidth\":0,\"ticks\":\"\"},\"colorscale\":[[0.0,\"#0d0887\"],[0.1111111111111111,\"#46039f\"],[0.2222222222222222,\"#7201a8\"],[0.3333333333333333,\"#9c179e\"],[0.4444444444444444,\"#bd3786\"],[0.5555555555555556,\"#d8576b\"],[0.6666666666666666,\"#ed7953\"],[0.7777777777777778,\"#fb9f3a\"],[0.8888888888888888,\"#fdca26\"],[1.0,\"#f0f921\"]]}],\"contourcarpet\":[{\"type\":\"contourcarpet\",\"colorbar\":{\"outlinewidth\":0,\"ticks\":\"\"}}],\"contour\":[{\"type\":\"contour\",\"colorbar\":{\"outlinewidth\":0,\"ticks\":\"\"},\"colorscale\":[[0.0,\"#0d0887\"],[0.1111111111111111,\"#46039f\"],[0.2222222222222222,\"#7201a8\"],[0.3333333333333333,\"#9c179e\"],[0.4444444444444444,\"#bd3786\"],[0.5555555555555556,\"#d8576b\"],[0.6666666666666666,\"#ed7953\"],[0.7777777777777778,\"#fb9f3a\"],[0.8888888888888888,\"#fdca26\"],[1.0,\"#f0f921\"]]}],\"surface\":[{\"type\":\"surface\",\"colorbar\":{\"outlinewidth\":0,\"ticks\":\"\"},\"colorscale\":[[0.0,\"#0d0887\"],[0.1111111111111111,\"#46039f\"],[0.2222222222222222,\"#7201a8\"],[0.3333333333333333,\"#9c179e\"],[0.4444444444444444,\"#bd3786\"],[0.5555555555555556,\"#d8576b\"],[0.6666666666666666,\"#ed7953\"],[0.7777777777777778,\"#fb9f3a\"],[0.8888888888888888,\"#fdca26\"],[1.0,\"#f0f921\"]]}],\"mesh3d\":[{\"type\":\"mesh3d\",\"colorbar\":{\"outlinewidth\":0,\"ticks\":\"\"}}],\"scatter\":[{\"fillpattern\":{\"fillmode\":\"overlay\",\"size\":10,\"solidity\":0.2},\"type\":\"scatter\"}],\"parcoords\":[{\"type\":\"parcoords\",\"line\":{\"colorbar\":{\"outlinewidth\":0,\"ticks\":\"\"}}}],\"scatterpolargl\":[{\"type\":\"scatterpolargl\",\"marker\":{\"colorbar\":{\"outlinewidth\":0,\"ticks\":\"\"}}}],\"bar\":[{\"error_x\":{\"color\":\"#2a3f5f\"},\"error_y\":{\"color\":\"#2a3f5f\"},\"marker\":{\"line\":{\"color\":\"white\",\"width\":0.5},\"pattern\":{\"fillmode\":\"overlay\",\"size\":10,\"solidity\":0.2}},\"type\":\"bar\"}],\"scattergeo\":[{\"type\":\"scattergeo\",\"marker\":{\"colorbar\":{\"outlinewidth\":0,\"ticks\":\"\"}}}],\"scatterpolar\":[{\"type\":\"scatterpolar\",\"marker\":{\"colorbar\":{\"outlinewidth\":0,\"ticks\":\"\"}}}],\"histogram\":[{\"marker\":{\"pattern\":{\"fillmode\":\"overlay\",\"size\":10,\"solidity\":0.2}},\"type\":\"histogram\"}],\"scattergl\":[{\"type\":\"scattergl\",\"marker\":{\"colorbar\":{\"outlinewidth\":0,\"ticks\":\"\"}}}],\"scatter3d\":[{\"type\":\"scatter3d\",\"line\":{\"colorbar\":{\"outlinewidth\":0,\"ticks\":\"\"}},\"marker\":{\"colorbar\":{\"outlinewidth\":0,\"ticks\":\"\"}}}],\"scattermapbox\":[{\"type\":\"scattermapbox\",\"marker\":{\"colorbar\":{\"outlinewidth\":0,\"ticks\":\"\"}}}],\"scatterternary\":[{\"type\":\"scatterternary\",\"marker\":{\"colorbar\":{\"outlinewidth\":0,\"ticks\":\"\"}}}],\"scattercarpet\":[{\"type\":\"scattercarpet\",\"marker\":{\"colorbar\":{\"outlinewidth\":0,\"ticks\":\"\"}}}],\"carpet\":[{\"aaxis\":{\"endlinecolor\":\"#2a3f5f\",\"gridcolor\":\"#C8D4E3\",\"linecolor\":\"#C8D4E3\",\"minorgridcolor\":\"#C8D4E3\",\"startlinecolor\":\"#2a3f5f\"},\"baxis\":{\"endlinecolor\":\"#2a3f5f\",\"gridcolor\":\"#C8D4E3\",\"linecolor\":\"#C8D4E3\",\"minorgridcolor\":\"#C8D4E3\",\"startlinecolor\":\"#2a3f5f\"},\"type\":\"carpet\"}],\"table\":[{\"cells\":{\"fill\":{\"color\":\"#EBF0F8\"},\"line\":{\"color\":\"white\"}},\"header\":{\"fill\":{\"color\":\"#C8D4E3\"},\"line\":{\"color\":\"white\"}},\"type\":\"table\"}],\"barpolar\":[{\"marker\":{\"line\":{\"color\":\"white\",\"width\":0.5},\"pattern\":{\"fillmode\":\"overlay\",\"size\":10,\"solidity\":0.2}},\"type\":\"barpolar\"}],\"pie\":[{\"automargin\":true,\"type\":\"pie\"}]},\"layout\":{\"autotypenumbers\":\"strict\",\"colorway\":[\"#636efa\",\"#EF553B\",\"#00cc96\",\"#ab63fa\",\"#FFA15A\",\"#19d3f3\",\"#FF6692\",\"#B6E880\",\"#FF97FF\",\"#FECB52\"],\"font\":{\"color\":\"#2a3f5f\"},\"hovermode\":\"closest\",\"hoverlabel\":{\"align\":\"left\"},\"paper_bgcolor\":\"white\",\"plot_bgcolor\":\"white\",\"polar\":{\"bgcolor\":\"white\",\"angularaxis\":{\"gridcolor\":\"#EBF0F8\",\"linecolor\":\"#EBF0F8\",\"ticks\":\"\"},\"radialaxis\":{\"gridcolor\":\"#EBF0F8\",\"linecolor\":\"#EBF0F8\",\"ticks\":\"\"}},\"ternary\":{\"bgcolor\":\"white\",\"aaxis\":{\"gridcolor\":\"#DFE8F3\",\"linecolor\":\"#A2B1C6\",\"ticks\":\"\"},\"baxis\":{\"gridcolor\":\"#DFE8F3\",\"linecolor\":\"#A2B1C6\",\"ticks\":\"\"},\"caxis\":{\"gridcolor\":\"#DFE8F3\",\"linecolor\":\"#A2B1C6\",\"ticks\":\"\"}},\"coloraxis\":{\"colorbar\":{\"outlinewidth\":0,\"ticks\":\"\"}},\"colorscale\":{\"sequential\":[[0.0,\"#0d0887\"],[0.1111111111111111,\"#46039f\"],[0.2222222222222222,\"#7201a8\"],[0.3333333333333333,\"#9c179e\"],[0.4444444444444444,\"#bd3786\"],[0.5555555555555556,\"#d8576b\"],[0.6666666666666666,\"#ed7953\"],[0.7777777777777778,\"#fb9f3a\"],[0.8888888888888888,\"#fdca26\"],[1.0,\"#f0f921\"]],\"sequentialminus\":[[0.0,\"#0d0887\"],[0.1111111111111111,\"#46039f\"],[0.2222222222222222,\"#7201a8\"],[0.3333333333333333,\"#9c179e\"],[0.4444444444444444,\"#bd3786\"],[0.5555555555555556,\"#d8576b\"],[0.6666666666666666,\"#ed7953\"],[0.7777777777777778,\"#fb9f3a\"],[0.8888888888888888,\"#fdca26\"],[1.0,\"#f0f921\"]],\"diverging\":[[0,\"#8e0152\"],[0.1,\"#c51b7d\"],[0.2,\"#de77ae\"],[0.3,\"#f1b6da\"],[0.4,\"#fde0ef\"],[0.5,\"#f7f7f7\"],[0.6,\"#e6f5d0\"],[0.7,\"#b8e186\"],[0.8,\"#7fbc41\"],[0.9,\"#4d9221\"],[1,\"#276419\"]]},\"xaxis\":{\"gridcolor\":\"#EBF0F8\",\"linecolor\":\"#EBF0F8\",\"ticks\":\"\",\"title\":{\"standoff\":15},\"zerolinecolor\":\"#EBF0F8\",\"automargin\":true,\"zerolinewidth\":2},\"yaxis\":{\"gridcolor\":\"#EBF0F8\",\"linecolor\":\"#EBF0F8\",\"ticks\":\"\",\"title\":{\"standoff\":15},\"zerolinecolor\":\"#EBF0F8\",\"automargin\":true,\"zerolinewidth\":2},\"scene\":{\"xaxis\":{\"backgroundcolor\":\"white\",\"gridcolor\":\"#DFE8F3\",\"linecolor\":\"#EBF0F8\",\"showbackground\":true,\"ticks\":\"\",\"zerolinecolor\":\"#EBF0F8\",\"gridwidth\":2},\"yaxis\":{\"backgroundcolor\":\"white\",\"gridcolor\":\"#DFE8F3\",\"linecolor\":\"#EBF0F8\",\"showbackground\":true,\"ticks\":\"\",\"zerolinecolor\":\"#EBF0F8\",\"gridwidth\":2},\"zaxis\":{\"backgroundcolor\":\"white\",\"gridcolor\":\"#DFE8F3\",\"linecolor\":\"#EBF0F8\",\"showbackground\":true,\"ticks\":\"\",\"zerolinecolor\":\"#EBF0F8\",\"gridwidth\":2}},\"shapedefaults\":{\"line\":{\"color\":\"#2a3f5f\"}},\"annotationdefaults\":{\"arrowcolor\":\"#2a3f5f\",\"arrowhead\":0,\"arrowwidth\":1},\"geo\":{\"bgcolor\":\"white\",\"landcolor\":\"white\",\"subunitcolor\":\"#C8D4E3\",\"showland\":true,\"showlakes\":true,\"lakecolor\":\"white\"},\"title\":{\"x\":0.05},\"mapbox\":{\"style\":\"light\"}}},\"xaxis\":{\"anchor\":\"y\",\"domain\":[0.0,1.0],\"title\":{\"text\":\"\\ud0d1\\uc2b9\\uc2dc\\uac04\"}},\"yaxis\":{\"anchor\":\"x\",\"domain\":[0.0,1.0],\"title\":{\"text\":\"\\uc694\\uc77c\"}},\"coloraxis\":{\"colorbar\":{\"title\":{\"text\":\"sum of \\ud3c9\\uade0\\uc774\\ub3d9\\uac70\\ub9ac\"}},\"colorscale\":[[0.0,\"#0d0887\"],[0.1111111111111111,\"#46039f\"],[0.2222222222222222,\"#7201a8\"],[0.3333333333333333,\"#9c179e\"],[0.4444444444444444,\"#bd3786\"],[0.5555555555555556,\"#d8576b\"],[0.6666666666666666,\"#ed7953\"],[0.7777777777777778,\"#fb9f3a\"],[0.8888888888888888,\"#fdca26\"],[1.0,\"#f0f921\"]]},\"legend\":{\"tracegroupgap\":0},\"margin\":{\"t\":60},\"height\":300},                        {\"responsive\": true}                    ).then(function(){\n",
       "                            \n",
       "var gd = document.getElementById('c3f21c9f-d91d-4ad2-b57f-aaad88836655');\n",
       "var x = new MutationObserver(function (mutations, observer) {{\n",
       "        var display = window.getComputedStyle(gd).display;\n",
       "        if (!display || display === 'none') {{\n",
       "            console.log([gd, 'removed!']);\n",
       "            Plotly.purge(gd);\n",
       "            observer.disconnect();\n",
       "        }}\n",
       "}});\n",
       "\n",
       "// Listen for the removal of the full notebook cells\n",
       "var notebookContainer = gd.closest('#notebook-container');\n",
       "if (notebookContainer) {{\n",
       "    x.observe(notebookContainer, {childList: true});\n",
       "}}\n",
       "\n",
       "// Listen for the clearing of the current output cell\n",
       "var outputEl = gd.closest('.output');\n",
       "if (outputEl) {{\n",
       "    x.observe(outputEl, {childList: true});\n",
       "}}\n",
       "\n",
       "                        })                };                });            </script>        </div>"
      ]
     },
     "metadata": {},
     "output_type": "display_data"
    }
   ],
   "source": [
    "fig2.show()"
   ]
  }
 ],
 "metadata": {
  "kernelspec": {
   "display_name": "Python 3 (ipykernel)",
   "language": "python",
   "name": "python3"
  },
  "language_info": {
   "codemirror_mode": {
    "name": "ipython",
    "version": 3
   },
   "file_extension": ".py",
   "mimetype": "text/x-python",
   "name": "python",
   "nbconvert_exporter": "python",
   "pygments_lexer": "ipython3",
   "version": "3.10.13"
  }
 },
 "nbformat": 4,
 "nbformat_minor": 5
}
